{
 "cells": [
  {
   "cell_type": "code",
   "execution_count": 1,
   "metadata": {},
   "outputs": [
    {
     "name": "stderr",
     "output_type": "stream",
     "text": [
      "Using TensorFlow backend.\n"
     ]
    }
   ],
   "source": [
    "import re\n",
    "import os\n",
    "import time\n",
    "import random\n",
    "import requests\n",
    "import numpy as np\n",
    "import pandas as pd\n",
    "from os import system\n",
    "from math import floor\n",
    "from copy import deepcopy\n",
    "from bs4 import BeautifulSoup\n",
    "from selenium import webdriver\n",
    "from selenium.webdriver.common.by import By\n",
    "from selenium.webdriver.common.keys import Keys\n",
    "from selenium.common.exceptions import TimeoutException\n",
    "from selenium.webdriver.support.ui import WebDriverWait\n",
    "from selenium.webdriver.support import expected_conditions as EC\n",
    "from imblearn.over_sampling import SMOTE\n",
    "\n",
    "import time\n",
    "from selenium.webdriver.chrome.options import Options\n",
    "\n"
   ]
  },
  {
   "cell_type": "markdown",
   "metadata": {},
   "source": [
    "# SQL"
   ]
  },
  {
   "cell_type": "code",
   "execution_count": 4,
   "metadata": {},
   "outputs": [],
   "source": [
    "import sqlite3\n",
    "import mysql.connector\n",
    "import config\n",
    "from mysql.connector import errorcode\n",
    "from datetime import date, datetime, timedelta"
   ]
  },
  {
   "cell_type": "code",
   "execution_count": 5,
   "metadata": {
    "scrolled": true
   },
   "outputs": [],
   "source": [
    "cnx = mysql.connector.connect(\n",
    "    host = config.host,\n",
    "    user = config.user,\n",
    "    password = config.password,\n",
    ")\n",
    "cursor = cnx.cursor(buffered=True)"
   ]
  },
  {
   "cell_type": "code",
   "execution_count": 6,
   "metadata": {},
   "outputs": [],
   "source": [
    "db_name = 'hotels'"
   ]
  },
  {
   "cell_type": "code",
   "execution_count": 7,
   "metadata": {},
   "outputs": [
    {
     "name": "stdout",
     "output_type": "stream",
     "text": [
      "Database hotels does not exists.\n",
      "Database hotels created successfully.\n"
     ]
    }
   ],
   "source": [
    "def create_database(cursor, database):\n",
    "    try:\n",
    "        cursor.execute(\n",
    "            \"CREATE DATABASE {} DEFAULT CHARACTER SET 'utf8'\".format(database))\n",
    "    except mysql.connector.Error as err:\n",
    "        print(\"Failed creating database: {}\".format(err))\n",
    "        exit(1)\n",
    "\n",
    "try:\n",
    "    cursor.execute(\"USE {}\".format(db_name))\n",
    "except mysql.connector.Error as err:\n",
    "    print(\"Database {} does not exists.\".format(db_name))\n",
    "    if err.errno == errorcode.ER_BAD_DB_ERROR:\n",
    "        create_database(cursor, db_name)\n",
    "        print(\"Database {} created successfully.\".format(db_name))\n",
    "        cnx.database = db_name\n",
    "    else:\n",
    "        print(err)\n",
    "        exit(1)"
   ]
  },
  {
   "cell_type": "code",
   "execution_count": 8,
   "metadata": {},
   "outputs": [],
   "source": [
    "create_hotels = \"\"\"\n",
    "CREATE TABLE hotels (\n",
    "hotel_title TEXT,\n",
    "hotel_price TEXT,\n",
    "hotel_star TEXT,\n",
    "hotel_room TEXT,\n",
    "hotel_restaurant TEXT,\n",
    "hotel_bar TEXT,\n",
    "hotel_fitness TEXT,\n",
    "hotel_spa TEXT,\n",
    "hotel_pool TEXT,\n",
    "valet_parking TEXT,\n",
    "hotel_limo TEXT,\n",
    "hotel_rooftop TEXT\n",
    ");\n",
    "\"\"\""
   ]
  },
  {
   "cell_type": "code",
   "execution_count": 9,
   "metadata": {},
   "outputs": [],
   "source": [
    "cursor.execute(create_hotels)\n",
    "cnx.commit()"
   ]
  },
  {
   "cell_type": "code",
   "execution_count": 10,
   "metadata": {},
   "outputs": [],
   "source": [
    "def create_hotel_tuple(lst):\n",
    "    tuple_list = []\n",
    "    for i in lst:\n",
    "        new_tuple = (i['hotel_title'],i['hotel_price'], i['hotel_star'], i['hotel_room'], i['hotel_restaurant'],i['hotel_bar'],i['hotel_fitness'],i['hotel_spa'],i['hotel_pool'],i['valet_parking'],i['hotel_limo'],i['hotel_rooftop'])\n",
    "        tuple_list.append(new_tuple)\n",
    "    return tuple_list"
   ]
  },
  {
   "cell_type": "code",
   "execution_count": 11,
   "metadata": {},
   "outputs": [],
   "source": [
    "hotel_tuples = create_hotel_tuple(hotel_list)"
   ]
  },
  {
   "cell_type": "code",
   "execution_count": 12,
   "metadata": {},
   "outputs": [],
   "source": [
    "def insert_into_hotels(tuple_list):\n",
    "    insert_hotels = \"\"\"INSERT INTO hotels(hotel_title, hotel_price, hotel_star, hotel_room, hotel_restaurant, hotel_bar, hotel_fitness, hotel_spa, hotel_pool, valet_parking, hotel_limo, hotel_rooftop)\n",
    "    VALUES (%s,%s,%s,%s,%s,%s,%s,%s,%s,%s,%s,%s)\"\"\"\n",
    "    cursor.executemany(insert_hotels,tuple_list)\n",
    "    cnx.commit()"
   ]
  },
  {
   "cell_type": "code",
   "execution_count": 13,
   "metadata": {},
   "outputs": [],
   "source": [
    "insert_into_hotels(hotel_tuples)"
   ]
  },
  {
   "cell_type": "code",
   "execution_count": 20,
   "metadata": {},
   "outputs": [],
   "source": [
    "cnx = mysql.connector.connect(\n",
    "    host = config.host,\n",
    "    user = config.user,\n",
    "    password = config.password,\n",
    "    database = 'hotels'\n",
    ")\n",
    "cursor = cnx.cursor(buffered=True)"
   ]
  },
  {
   "cell_type": "code",
   "execution_count": 21,
   "metadata": {},
   "outputs": [],
   "source": [
    "q = \"\"\"SELECT * FROM hotels;\"\"\"\n",
    "cursor.execute(q)\n",
    "df = pd.DataFrame(cursor.fetchall())\n",
    "df.columns = [x[0] for x in cursor.description]"
   ]
  },
  {
   "cell_type": "markdown",
   "metadata": {},
   "source": [
    "### Data Cleaning, EDA and Data Engineer"
   ]
  },
  {
   "cell_type": "code",
   "execution_count": 23,
   "metadata": {},
   "outputs": [],
   "source": [
    "#drop duplicates\n",
    "df.drop_duplicates(inplace=True)"
   ]
  },
  {
   "cell_type": "code",
   "execution_count": 24,
   "metadata": {
    "scrolled": true
   },
   "outputs": [],
   "source": [
    "df.drop([241],axis=0,inplace=True)"
   ]
  },
  {
   "cell_type": "code",
   "execution_count": 25,
   "metadata": {},
   "outputs": [
    {
     "data": {
      "text/plain": [
       "array(['229', '345', '107', '140', '119', '134', '199', '159', '173',\n",
       "       '129', '104', '115', '135', '160', '111', '184', '$75', '179',\n",
       "       '165', '132', '143', '149', '139', '169', '109', '152', '154',\n",
       "       '206', '144', '$79', '175', '200', '153', '202', '212', '189',\n",
       "       '131', '164', '239', '222', '120', '170', '145', '118', '269',\n",
       "       '155', '204', '185', '223', '$99', '259', '219', '209', '150',\n",
       "       '188', '180', '249', '198', '122', '237', '255', '114', '295',\n",
       "       '183', '112', '245', '191', '225', '194', '176', '168', '315',\n",
       "       '329', '228', '215', '195', '247', '210', '319', '105', '203',\n",
       "       '288', '300', '172', '350', '275', '$87', '227', '158', '299',\n",
       "       '240', '161', '260', '230', '309', '305', '279', '335', '151',\n",
       "       '365', '324', '310', '289', '271', '$84', '314', '214', '359',\n",
       "       '121', '325', '440', '341', '290', '326', '197', '273', '284',\n",
       "       '232', '138', '241', '425', '380', '277', '445', '117', '338',\n",
       "       '374', '459', '261', '429', '224', '499', '409', '505', '469',\n",
       "       '$69', '322', '449', '544', '515', '125', '525', '488', '626',\n",
       "       '441', '495', '575', '349', '795', '695', '410', '609', '850',\n",
       "       '220', '675', '337', '266', '$68', '$86', '$39', '462', '405',\n",
       "       '995', '025', '895', '235', '920', '$96', '207', '211', '116',\n",
       "       '389', '196', '370', '306', '$98', '994', '110', '278', '$89',\n",
       "       '599', '$94', '$93', '339', '108', '136', '101', '171', '100',\n",
       "       '$90', '146', '253', '174', '113', '137', '124', '102', '234',\n",
       "       '$80', '354', '252', '257', '$85', '130', '$92', '106', '799',\n",
       "       '$81', '$61', '123', '$74', '$76', '127', '250', '$72', '$82',\n",
       "       '147', '$57', '192', '$64', '$88', '$73', '256', '$97', '$60',\n",
       "       '$59', '$77', '$58', '$71', '205', '$65', '719', '296'],\n",
       "      dtype=object)"
      ]
     },
     "execution_count": 25,
     "metadata": {},
     "output_type": "execute_result"
    }
   ],
   "source": [
    "df.hotel_price.unique()"
   ]
  },
  {
   "cell_type": "code",
   "execution_count": 26,
   "metadata": {},
   "outputs": [],
   "source": [
    "#remove '$'\n",
    "df.hotel_price = df.hotel_price.apply(lambda x: int(x.replace('$','')))"
   ]
  },
  {
   "cell_type": "code",
   "execution_count": 27,
   "metadata": {
    "scrolled": true
   },
   "outputs": [],
   "source": [
    "#remove text\n",
    "df.hotel_star = df.hotel_star.apply(lambda x: float(x.replace('-star','')))"
   ]
  },
  {
   "cell_type": "code",
   "execution_count": 28,
   "metadata": {},
   "outputs": [
    {
     "data": {
      "text/plain": [
       "900"
      ]
     },
     "execution_count": 28,
     "metadata": {},
     "output_type": "execute_result"
    }
   ],
   "source": [
    "len(df)"
   ]
  },
  {
   "cell_type": "code",
   "execution_count": 29,
   "metadata": {},
   "outputs": [],
   "source": [
    "#remove punctuation\n",
    "df.hotel_room = df.hotel_room.apply(lambda x: int(x.replace(',','')))"
   ]
  },
  {
   "cell_type": "code",
   "execution_count": 30,
   "metadata": {},
   "outputs": [
    {
     "data": {
      "text/html": [
       "<div>\n",
       "<style scoped>\n",
       "    .dataframe tbody tr th:only-of-type {\n",
       "        vertical-align: middle;\n",
       "    }\n",
       "\n",
       "    .dataframe tbody tr th {\n",
       "        vertical-align: top;\n",
       "    }\n",
       "\n",
       "    .dataframe thead th {\n",
       "        text-align: right;\n",
       "    }\n",
       "</style>\n",
       "<table border=\"1\" class=\"dataframe\">\n",
       "  <thead>\n",
       "    <tr style=\"text-align: right;\">\n",
       "      <th></th>\n",
       "      <th>hotel_title</th>\n",
       "      <th>hotel_price</th>\n",
       "      <th>hotel_star</th>\n",
       "      <th>hotel_room</th>\n",
       "      <th>hotel_restaurant</th>\n",
       "      <th>hotel_bar</th>\n",
       "      <th>hotel_fitness</th>\n",
       "      <th>hotel_spa</th>\n",
       "      <th>hotel_pool</th>\n",
       "      <th>valet_parking</th>\n",
       "      <th>hotel_limo</th>\n",
       "      <th>hotel_rooftop</th>\n",
       "    </tr>\n",
       "  </thead>\n",
       "  <tbody>\n",
       "    <tr>\n",
       "      <td>337</td>\n",
       "      <td>SpringHill Suites by Marriott New York Manhatt...</td>\n",
       "      <td>139</td>\n",
       "      <td>3.5</td>\n",
       "      <td>256</td>\n",
       "      <td>Yes</td>\n",
       "      <td>Yes</td>\n",
       "      <td>Yes</td>\n",
       "      <td>No</td>\n",
       "      <td>No</td>\n",
       "      <td>Yes</td>\n",
       "      <td>No</td>\n",
       "      <td>No</td>\n",
       "    </tr>\n",
       "    <tr>\n",
       "      <td>253</td>\n",
       "      <td>St Marks Hotel, New York</td>\n",
       "      <td>119</td>\n",
       "      <td>3.0</td>\n",
       "      <td>64</td>\n",
       "      <td>Yes</td>\n",
       "      <td>Yes</td>\n",
       "      <td>No</td>\n",
       "      <td>No</td>\n",
       "      <td>No</td>\n",
       "      <td>No</td>\n",
       "      <td>No</td>\n",
       "      <td>No</td>\n",
       "    </tr>\n",
       "    <tr>\n",
       "      <td>891</td>\n",
       "      <td>Best Western Far Rockaway Inn, Far Rockaway</td>\n",
       "      <td>110</td>\n",
       "      <td>2.5</td>\n",
       "      <td>58</td>\n",
       "      <td>No</td>\n",
       "      <td>No</td>\n",
       "      <td>Yes</td>\n",
       "      <td>No</td>\n",
       "      <td>No</td>\n",
       "      <td>No</td>\n",
       "      <td>No</td>\n",
       "      <td>No</td>\n",
       "    </tr>\n",
       "    <tr>\n",
       "      <td>826</td>\n",
       "      <td>The Wilshire Grand Hotel, West Orange</td>\n",
       "      <td>140</td>\n",
       "      <td>3.5</td>\n",
       "      <td>89</td>\n",
       "      <td>Yes</td>\n",
       "      <td>Yes</td>\n",
       "      <td>Yes</td>\n",
       "      <td>No</td>\n",
       "      <td>No</td>\n",
       "      <td>No</td>\n",
       "      <td>No</td>\n",
       "      <td>Yes</td>\n",
       "    </tr>\n",
       "    <tr>\n",
       "      <td>50</td>\n",
       "      <td>Artezen Hotel, New York</td>\n",
       "      <td>169</td>\n",
       "      <td>4.0</td>\n",
       "      <td>89</td>\n",
       "      <td>No</td>\n",
       "      <td>No</td>\n",
       "      <td>Yes</td>\n",
       "      <td>No</td>\n",
       "      <td>No</td>\n",
       "      <td>No</td>\n",
       "      <td>Yes</td>\n",
       "      <td>Yes</td>\n",
       "    </tr>\n",
       "  </tbody>\n",
       "</table>\n",
       "</div>"
      ],
      "text/plain": [
       "                                           hotel_title  hotel_price  \\\n",
       "337  SpringHill Suites by Marriott New York Manhatt...          139   \n",
       "253                           St Marks Hotel, New York          119   \n",
       "891        Best Western Far Rockaway Inn, Far Rockaway          110   \n",
       "826              The Wilshire Grand Hotel, West Orange          140   \n",
       "50                             Artezen Hotel, New York          169   \n",
       "\n",
       "     hotel_star  hotel_room hotel_restaurant hotel_bar hotel_fitness  \\\n",
       "337         3.5         256              Yes       Yes           Yes   \n",
       "253         3.0          64              Yes       Yes            No   \n",
       "891         2.5          58               No        No           Yes   \n",
       "826         3.5          89              Yes       Yes           Yes   \n",
       "50          4.0          89               No        No           Yes   \n",
       "\n",
       "    hotel_spa hotel_pool valet_parking hotel_limo hotel_rooftop  \n",
       "337        No         No           Yes         No            No  \n",
       "253        No         No            No         No            No  \n",
       "891        No         No            No         No            No  \n",
       "826        No         No            No         No           Yes  \n",
       "50         No         No            No        Yes           Yes  "
      ]
     },
     "execution_count": 30,
     "metadata": {},
     "output_type": "execute_result"
    }
   ],
   "source": [
    "df.sample(5)"
   ]
  },
  {
   "cell_type": "markdown",
   "metadata": {},
   "source": [
    "# EDA\n"
   ]
  },
  {
   "cell_type": "code",
   "execution_count": 31,
   "metadata": {},
   "outputs": [],
   "source": [
    "import matplotlib.pyplot as plt\n",
    "import seaborn as sns\n",
    "%matplotlib inline"
   ]
  },
  {
   "cell_type": "code",
   "execution_count": 32,
   "metadata": {},
   "outputs": [
    {
     "data": {
      "text/plain": [
       "<matplotlib.axes._subplots.AxesSubplot at 0x1a3705c0d0>"
      ]
     },
     "execution_count": 32,
     "metadata": {},
     "output_type": "execute_result"
    },
    {
     "data": {
      "image/png": "[encoded data removed]",
      "text/plain": [
       "<Figure size 432x288 with 1 Axes>"
      ]
     },
     "metadata": {
      "needs_background": "light"
     },
     "output_type": "display_data"
    }
   ],
   "source": [
    "sns.countplot(df.hotel_star)"
   ]
  },
  {
   "cell_type": "code",
   "execution_count": 33,
   "metadata": {},
   "outputs": [],
   "source": [
    "df['hotel_tier'] = df.hotel_star.apply(lambda x: 'Economy' if x <= 2.5 else('Midscale' if 2.5 < x <= 3.5 else ('Luxury')))\n"
   ]
  },
  {
   "cell_type": "code",
   "execution_count": 34,
   "metadata": {},
   "outputs": [],
   "source": [
    "categorical_cols = df.drop(['hotel_title', 'hotel_star','hotel_price','hotel_room','hotel_tier'],axis=1)\n"
   ]
  },
  {
   "cell_type": "code",
   "execution_count": 35,
   "metadata": {},
   "outputs": [],
   "source": [
    "for i in list(categorical_cols.columns):\n",
    "    df[i] = df[i].apply(lambda x: 1 if x == \"Yes\" else 0)"
   ]
  },
  {
   "cell_type": "code",
   "execution_count": 36,
   "metadata": {},
   "outputs": [
    {
     "data": {
      "text/html": [
       "<div>\n",
       "<style scoped>\n",
       "    .dataframe tbody tr th:only-of-type {\n",
       "        vertical-align: middle;\n",
       "    }\n",
       "\n",
       "    .dataframe tbody tr th {\n",
       "        vertical-align: top;\n",
       "    }\n",
       "\n",
       "    .dataframe thead th {\n",
       "        text-align: right;\n",
       "    }\n",
       "</style>\n",
       "<table border=\"1\" class=\"dataframe\">\n",
       "  <thead>\n",
       "    <tr style=\"text-align: right;\">\n",
       "      <th></th>\n",
       "      <th>hotel_title</th>\n",
       "      <th>hotel_price</th>\n",
       "      <th>hotel_star</th>\n",
       "      <th>hotel_room</th>\n",
       "      <th>hotel_restaurant</th>\n",
       "      <th>hotel_bar</th>\n",
       "      <th>hotel_fitness</th>\n",
       "      <th>hotel_spa</th>\n",
       "      <th>hotel_pool</th>\n",
       "      <th>valet_parking</th>\n",
       "      <th>hotel_limo</th>\n",
       "      <th>hotel_rooftop</th>\n",
       "      <th>hotel_tier</th>\n",
       "    </tr>\n",
       "  </thead>\n",
       "  <tbody>\n",
       "    <tr>\n",
       "      <td>0</td>\n",
       "      <td>Crowne Plaza Times Square Manhattan, New York</td>\n",
       "      <td>229</td>\n",
       "      <td>4.0</td>\n",
       "      <td>795</td>\n",
       "      <td>1</td>\n",
       "      <td>1</td>\n",
       "      <td>1</td>\n",
       "      <td>0</td>\n",
       "      <td>1</td>\n",
       "      <td>1</td>\n",
       "      <td>0</td>\n",
       "      <td>0</td>\n",
       "      <td>Luxury</td>\n",
       "    </tr>\n",
       "    <tr>\n",
       "      <td>1</td>\n",
       "      <td>PUBLIC, an Ian Schrager hotel, New York</td>\n",
       "      <td>345</td>\n",
       "      <td>4.0</td>\n",
       "      <td>367</td>\n",
       "      <td>1</td>\n",
       "      <td>1</td>\n",
       "      <td>1</td>\n",
       "      <td>0</td>\n",
       "      <td>0</td>\n",
       "      <td>0</td>\n",
       "      <td>0</td>\n",
       "      <td>1</td>\n",
       "      <td>Luxury</td>\n",
       "    </tr>\n",
       "    <tr>\n",
       "      <td>2</td>\n",
       "      <td>Meadowlands River Inn, Secaucus</td>\n",
       "      <td>107</td>\n",
       "      <td>2.5</td>\n",
       "      <td>149</td>\n",
       "      <td>0</td>\n",
       "      <td>0</td>\n",
       "      <td>1</td>\n",
       "      <td>0</td>\n",
       "      <td>0</td>\n",
       "      <td>0</td>\n",
       "      <td>0</td>\n",
       "      <td>0</td>\n",
       "      <td>Economy</td>\n",
       "    </tr>\n",
       "    <tr>\n",
       "      <td>3</td>\n",
       "      <td>Hilton Garden Inn Times Square, New York</td>\n",
       "      <td>140</td>\n",
       "      <td>3.5</td>\n",
       "      <td>369</td>\n",
       "      <td>0</td>\n",
       "      <td>0</td>\n",
       "      <td>1</td>\n",
       "      <td>0</td>\n",
       "      <td>0</td>\n",
       "      <td>0</td>\n",
       "      <td>0</td>\n",
       "      <td>0</td>\n",
       "      <td>Midscale</td>\n",
       "    </tr>\n",
       "    <tr>\n",
       "      <td>4</td>\n",
       "      <td>Hampton Inn Times Square North, New York</td>\n",
       "      <td>119</td>\n",
       "      <td>3.0</td>\n",
       "      <td>300</td>\n",
       "      <td>0</td>\n",
       "      <td>0</td>\n",
       "      <td>1</td>\n",
       "      <td>0</td>\n",
       "      <td>0</td>\n",
       "      <td>1</td>\n",
       "      <td>0</td>\n",
       "      <td>0</td>\n",
       "      <td>Midscale</td>\n",
       "    </tr>\n",
       "  </tbody>\n",
       "</table>\n",
       "</div>"
      ],
      "text/plain": [
       "                                     hotel_title  hotel_price  hotel_star  \\\n",
       "0  Crowne Plaza Times Square Manhattan, New York          229         4.0   \n",
       "1        PUBLIC, an Ian Schrager hotel, New York          345         4.0   \n",
       "2                Meadowlands River Inn, Secaucus          107         2.5   \n",
       "3       Hilton Garden Inn Times Square, New York          140         3.5   \n",
       "4       Hampton Inn Times Square North, New York          119         3.0   \n",
       "\n",
       "   hotel_room  hotel_restaurant  hotel_bar  hotel_fitness  hotel_spa  \\\n",
       "0         795                 1          1              1          0   \n",
       "1         367                 1          1              1          0   \n",
       "2         149                 0          0              1          0   \n",
       "3         369                 0          0              1          0   \n",
       "4         300                 0          0              1          0   \n",
       "\n",
       "   hotel_pool  valet_parking  hotel_limo  hotel_rooftop hotel_tier  \n",
       "0           1              1           0              0     Luxury  \n",
       "1           0              0           0              1     Luxury  \n",
       "2           0              0           0              0    Economy  \n",
       "3           0              0           0              0   Midscale  \n",
       "4           0              1           0              0   Midscale  "
      ]
     },
     "execution_count": 36,
     "metadata": {},
     "output_type": "execute_result"
    }
   ],
   "source": [
    "df.head()"
   ]
  },
  {
   "cell_type": "code",
   "execution_count": 465,
   "metadata": {},
   "outputs": [
    {
     "data": {
      "text/html": [
       "<div>\n",
       "<style scoped>\n",
       "    .dataframe tbody tr th:only-of-type {\n",
       "        vertical-align: middle;\n",
       "    }\n",
       "\n",
       "    .dataframe tbody tr th {\n",
       "        vertical-align: top;\n",
       "    }\n",
       "\n",
       "    .dataframe thead th {\n",
       "        text-align: right;\n",
       "    }\n",
       "</style>\n",
       "<table border=\"1\" class=\"dataframe\">\n",
       "  <thead>\n",
       "    <tr style=\"text-align: right;\">\n",
       "      <th></th>\n",
       "      <th>hotel_price</th>\n",
       "      <th>hotel_star</th>\n",
       "      <th>hotel_room</th>\n",
       "      <th>hotel_restaurant</th>\n",
       "      <th>hotel_bar</th>\n",
       "      <th>hotel_fitness</th>\n",
       "      <th>hotel_spa</th>\n",
       "      <th>hotel_pool</th>\n",
       "      <th>valet_parking</th>\n",
       "      <th>hotel_limo</th>\n",
       "      <th>hotel_rooftop</th>\n",
       "    </tr>\n",
       "  </thead>\n",
       "  <tbody>\n",
       "    <tr>\n",
       "      <th>hotel_price</th>\n",
       "      <td>1.000000</td>\n",
       "      <td>0.627168</td>\n",
       "      <td>0.141020</td>\n",
       "      <td>0.328353</td>\n",
       "      <td>0.345874</td>\n",
       "      <td>0.240655</td>\n",
       "      <td>0.173356</td>\n",
       "      <td>0.067173</td>\n",
       "      <td>0.437677</td>\n",
       "      <td>0.184496</td>\n",
       "      <td>0.178625</td>\n",
       "    </tr>\n",
       "    <tr>\n",
       "      <th>hotel_star</th>\n",
       "      <td>0.627168</td>\n",
       "      <td>1.000000</td>\n",
       "      <td>0.368916</td>\n",
       "      <td>0.601961</td>\n",
       "      <td>0.617515</td>\n",
       "      <td>0.380426</td>\n",
       "      <td>0.101563</td>\n",
       "      <td>0.067377</td>\n",
       "      <td>0.569221</td>\n",
       "      <td>0.217304</td>\n",
       "      <td>0.312591</td>\n",
       "    </tr>\n",
       "    <tr>\n",
       "      <th>hotel_room</th>\n",
       "      <td>0.141020</td>\n",
       "      <td>0.368916</td>\n",
       "      <td>1.000000</td>\n",
       "      <td>0.360251</td>\n",
       "      <td>0.358893</td>\n",
       "      <td>0.331332</td>\n",
       "      <td>0.097669</td>\n",
       "      <td>0.037989</td>\n",
       "      <td>0.356833</td>\n",
       "      <td>0.086097</td>\n",
       "      <td>0.070716</td>\n",
       "    </tr>\n",
       "    <tr>\n",
       "      <th>hotel_restaurant</th>\n",
       "      <td>0.328353</td>\n",
       "      <td>0.601961</td>\n",
       "      <td>0.360251</td>\n",
       "      <td>1.000000</td>\n",
       "      <td>0.799384</td>\n",
       "      <td>0.365210</td>\n",
       "      <td>0.092809</td>\n",
       "      <td>0.154306</td>\n",
       "      <td>0.358771</td>\n",
       "      <td>0.119925</td>\n",
       "      <td>0.226543</td>\n",
       "    </tr>\n",
       "    <tr>\n",
       "      <th>hotel_bar</th>\n",
       "      <td>0.345874</td>\n",
       "      <td>0.617515</td>\n",
       "      <td>0.358893</td>\n",
       "      <td>0.799384</td>\n",
       "      <td>1.000000</td>\n",
       "      <td>0.396885</td>\n",
       "      <td>0.090530</td>\n",
       "      <td>0.167645</td>\n",
       "      <td>0.371424</td>\n",
       "      <td>0.129732</td>\n",
       "      <td>0.275154</td>\n",
       "    </tr>\n",
       "    <tr>\n",
       "      <th>hotel_fitness</th>\n",
       "      <td>0.240655</td>\n",
       "      <td>0.380426</td>\n",
       "      <td>0.331332</td>\n",
       "      <td>0.365210</td>\n",
       "      <td>0.396885</td>\n",
       "      <td>1.000000</td>\n",
       "      <td>0.054240</td>\n",
       "      <td>0.298191</td>\n",
       "      <td>0.320040</td>\n",
       "      <td>0.108378</td>\n",
       "      <td>0.122110</td>\n",
       "    </tr>\n",
       "    <tr>\n",
       "      <th>hotel_spa</th>\n",
       "      <td>0.173356</td>\n",
       "      <td>0.101563</td>\n",
       "      <td>0.097669</td>\n",
       "      <td>0.092809</td>\n",
       "      <td>0.090530</td>\n",
       "      <td>0.054240</td>\n",
       "      <td>1.000000</td>\n",
       "      <td>0.015672</td>\n",
       "      <td>0.073927</td>\n",
       "      <td>0.050570</td>\n",
       "      <td>-0.009215</td>\n",
       "    </tr>\n",
       "    <tr>\n",
       "      <th>hotel_pool</th>\n",
       "      <td>0.067173</td>\n",
       "      <td>0.067377</td>\n",
       "      <td>0.037989</td>\n",
       "      <td>0.154306</td>\n",
       "      <td>0.167645</td>\n",
       "      <td>0.298191</td>\n",
       "      <td>0.015672</td>\n",
       "      <td>1.000000</td>\n",
       "      <td>-0.104307</td>\n",
       "      <td>-0.002042</td>\n",
       "      <td>0.101990</td>\n",
       "    </tr>\n",
       "    <tr>\n",
       "      <th>valet_parking</th>\n",
       "      <td>0.437677</td>\n",
       "      <td>0.569221</td>\n",
       "      <td>0.356833</td>\n",
       "      <td>0.358771</td>\n",
       "      <td>0.371424</td>\n",
       "      <td>0.320040</td>\n",
       "      <td>0.073927</td>\n",
       "      <td>-0.104307</td>\n",
       "      <td>1.000000</td>\n",
       "      <td>0.213734</td>\n",
       "      <td>0.181466</td>\n",
       "    </tr>\n",
       "    <tr>\n",
       "      <th>hotel_limo</th>\n",
       "      <td>0.184496</td>\n",
       "      <td>0.217304</td>\n",
       "      <td>0.086097</td>\n",
       "      <td>0.119925</td>\n",
       "      <td>0.129732</td>\n",
       "      <td>0.108378</td>\n",
       "      <td>0.050570</td>\n",
       "      <td>-0.002042</td>\n",
       "      <td>0.213734</td>\n",
       "      <td>1.000000</td>\n",
       "      <td>0.070574</td>\n",
       "    </tr>\n",
       "    <tr>\n",
       "      <th>hotel_rooftop</th>\n",
       "      <td>0.178625</td>\n",
       "      <td>0.312591</td>\n",
       "      <td>0.070716</td>\n",
       "      <td>0.226543</td>\n",
       "      <td>0.275154</td>\n",
       "      <td>0.122110</td>\n",
       "      <td>-0.009215</td>\n",
       "      <td>0.101990</td>\n",
       "      <td>0.181466</td>\n",
       "      <td>0.070574</td>\n",
       "      <td>1.000000</td>\n",
       "    </tr>\n",
       "  </tbody>\n",
       "</table>\n",
       "</div>"
      ],
      "text/plain": [
       "                  hotel_price  hotel_star  hotel_room  hotel_restaurant  \\\n",
       "hotel_price          1.000000    0.627168    0.141020          0.328353   \n",
       "hotel_star           0.627168    1.000000    0.368916          0.601961   \n",
       "hotel_room           0.141020    0.368916    1.000000          0.360251   \n",
       "hotel_restaurant     0.328353    0.601961    0.360251          1.000000   \n",
       "hotel_bar            0.345874    0.617515    0.358893          0.799384   \n",
       "hotel_fitness        0.240655    0.380426    0.331332          0.365210   \n",
       "hotel_spa            0.173356    0.101563    0.097669          0.092809   \n",
       "hotel_pool           0.067173    0.067377    0.037989          0.154306   \n",
       "valet_parking        0.437677    0.569221    0.356833          0.358771   \n",
       "hotel_limo           0.184496    0.217304    0.086097          0.119925   \n",
       "hotel_rooftop        0.178625    0.312591    0.070716          0.226543   \n",
       "\n",
       "                  hotel_bar  hotel_fitness  hotel_spa  hotel_pool  \\\n",
       "hotel_price        0.345874       0.240655   0.173356    0.067173   \n",
       "hotel_star         0.617515       0.380426   0.101563    0.067377   \n",
       "hotel_room         0.358893       0.331332   0.097669    0.037989   \n",
       "hotel_restaurant   0.799384       0.365210   0.092809    0.154306   \n",
       "hotel_bar          1.000000       0.396885   0.090530    0.167645   \n",
       "hotel_fitness      0.396885       1.000000   0.054240    0.298191   \n",
       "hotel_spa          0.090530       0.054240   1.000000    0.015672   \n",
       "hotel_pool         0.167645       0.298191   0.015672    1.000000   \n",
       "valet_parking      0.371424       0.320040   0.073927   -0.104307   \n",
       "hotel_limo         0.129732       0.108378   0.050570   -0.002042   \n",
       "hotel_rooftop      0.275154       0.122110  -0.009215    0.101990   \n",
       "\n",
       "                  valet_parking  hotel_limo  hotel_rooftop  \n",
       "hotel_price            0.437677    0.184496       0.178625  \n",
       "hotel_star             0.569221    0.217304       0.312591  \n",
       "hotel_room             0.356833    0.086097       0.070716  \n",
       "hotel_restaurant       0.358771    0.119925       0.226543  \n",
       "hotel_bar              0.371424    0.129732       0.275154  \n",
       "hotel_fitness          0.320040    0.108378       0.122110  \n",
       "hotel_spa              0.073927    0.050570      -0.009215  \n",
       "hotel_pool            -0.104307   -0.002042       0.101990  \n",
       "valet_parking          1.000000    0.213734       0.181466  \n",
       "hotel_limo             0.213734    1.000000       0.070574  \n",
       "hotel_rooftop          0.181466    0.070574       1.000000  "
      ]
     },
     "execution_count": 465,
     "metadata": {},
     "output_type": "execute_result"
    }
   ],
   "source": [
    "df.corr()"
   ]
  },
  {
   "cell_type": "code",
   "execution_count": 37,
   "metadata": {},
   "outputs": [
    {
     "data": {
      "text/plain": [
       "<matplotlib.axes._subplots.AxesSubplot at 0x1a37525c50>"
      ]
     },
     "execution_count": 37,
     "metadata": {},
     "output_type": "execute_result"
    },
    {
     "data": {
      "image/png": "[encoded data removed]",
      "text/plain": [
       "<Figure size 432x288 with 1 Axes>"
      ]
     },
     "metadata": {
      "needs_background": "light"
     },
     "output_type": "display_data"
    }
   ],
   "source": [
    "sns.countplot(df.hotel_tier)"
   ]
  },
  {
   "cell_type": "code",
   "execution_count": 38,
   "metadata": {},
   "outputs": [
    {
     "data": {
      "image/png": "[encoded data removed]",
      "text/plain": [
       "<Figure size 1080x720 with 12 Axes>"
      ]
     },
     "metadata": {
      "needs_background": "light"
     },
     "output_type": "display_data"
    }
   ],
   "source": [
    "df.drop(['hotel_star'],axis=1).hist(figsize=(15,10));"
   ]
  },
  {
   "cell_type": "markdown",
   "metadata": {},
   "source": [
    "# Classification\n"
   ]
  },
  {
   "cell_type": "code",
   "execution_count": 41,
   "metadata": {},
   "outputs": [],
   "source": [
    "from sklearn.pipeline import Pipeline,make_pipeline\n",
    "from sklearn.model_selection import cross_val_score,train_test_split, GridSearchCV, cross_validate\n",
    "from sklearn.metrics import accuracy_score, precision_score, recall_score, f1_score, roc_curve, auc,confusion_matrix, classification_report\n",
    "from sklearn.preprocessing import normalize, scale, StandardScaler, Normalizer\n",
    "from sklearn.multiclass import OneVsRestClassifier\n",
    "import matplotlib.pyplot as plt\n",
    "from mlxtend.plotting import plot_confusion_matrix\n",
    "\n",
    "# Classification Algorithms\n",
    "from sklearn.linear_model import LogisticRegression,SGDClassifier\n",
    "from sklearn.neighbors import KNeighborsClassifier\n",
    "from sklearn.naive_bayes import BernoulliNB, MultinomialNB\n",
    "from sklearn.svm import SVC\n",
    "from sklearn.tree import DecisionTreeClassifier\n",
    "from sklearn.ensemble import RandomForestClassifier,AdaBoostClassifier, GradientBoostingClassifier,VotingClassifier"
   ]
  },
  {
   "cell_type": "code",
   "execution_count": 42,
   "metadata": {},
   "outputs": [],
   "source": [
    "#features without price\n",
    "features = ['hotel_room','hotel_restaurant','hotel_bar','hotel_fitness','hotel_spa','hotel_pool','valet_parking','hotel_limo','hotel_rooftop']"
   ]
  },
  {
   "cell_type": "code",
   "execution_count": 43,
   "metadata": {},
   "outputs": [],
   "source": [
    "X = df[features]\n",
    "y = df.hotel_tier"
   ]
  },
  {
   "cell_type": "code",
   "execution_count": 44,
   "metadata": {},
   "outputs": [],
   "source": [
    "X_train, X_test, y_train, y_test = train_test_split(X, y, test_size=0.25)\n",
    "scale = StandardScaler()\n",
    "X_train_scaled = scale.fit_transform(X_train)\n",
    "X_test_scaled = scale.fit_transform(X_test)"
   ]
  },
  {
   "cell_type": "code",
   "execution_count": 45,
   "metadata": {},
   "outputs": [],
   "source": [
    "#features with price\n",
    "features_w_price = ['hotel_price','hotel_room','hotel_restaurant','hotel_bar','hotel_fitness','hotel_spa','hotel_pool','valet_parking','hotel_limo','hotel_rooftop']"
   ]
  },
  {
   "cell_type": "code",
   "execution_count": 46,
   "metadata": {},
   "outputs": [],
   "source": [
    "X_p = df[features_w_price]\n",
    "y_p = df.hotel_tier"
   ]
  },
  {
   "cell_type": "code",
   "execution_count": 47,
   "metadata": {},
   "outputs": [],
   "source": [
    "X_p_train, X_p_test, y_p_train, y_p_test = train_test_split(X_p, y_p, test_size=0.25)\n",
    "X_p_train_scaled = scale.fit_transform(X_p_train)\n",
    "X_p_test_scaled = scale.fit_transform(X_p_test)"
   ]
  },
  {
   "cell_type": "code",
   "execution_count": 48,
   "metadata": {},
   "outputs": [],
   "source": [
    "def cross_val(models,X_train,y_train):\n",
    "    for model in models:\n",
    "        model.fit(X_train,y_train)\n",
    "        \n",
    "        print(str(model).split('(')[0],'Cross Validation:')\n",
    "        print(f\"-- Accuracy: {cross_val_score(model, X_train, y_train, cv=5,scoring='accuracy').mean():.2%}\")"
   ]
  },
  {
   "cell_type": "code",
   "execution_count": 49,
   "metadata": {},
   "outputs": [],
   "source": [
    "clf = [RandomForestClassifier(),AdaBoostClassifier(),\n",
    "      DecisionTreeClassifier(),KNeighborsClassifier(),BernoulliNB(),SVC(),OneVsRestClassifier(SVC())]\n"
   ]
  },
  {
   "cell_type": "code",
   "execution_count": 50,
   "metadata": {
    "scrolled": true
   },
   "outputs": [
    {
     "name": "stdout",
     "output_type": "stream",
     "text": [
      "RandomForestClassifier Cross Validation:\n",
      "-- Accuracy: 70.52%\n",
      "AdaBoostClassifier Cross Validation:\n",
      "-- Accuracy: 70.52%\n",
      "DecisionTreeClassifier Cross Validation:\n",
      "-- Accuracy: 64.44%\n",
      "KNeighborsClassifier Cross Validation:\n",
      "-- Accuracy: 65.93%\n",
      "BernoulliNB Cross Validation:\n",
      "-- Accuracy: 67.11%\n",
      "SVC Cross Validation:\n",
      "-- Accuracy: 71.11%\n",
      "OneVsRestClassifier Cross Validation:\n",
      "-- Accuracy: 70.37%\n"
     ]
    }
   ],
   "source": [
    "#base models on data with price feature\n",
    "cross_val(clf,X_p_train_scaled,y_p_train);"
   ]
  },
  {
   "cell_type": "code",
   "execution_count": 51,
   "metadata": {
    "scrolled": true
   },
   "outputs": [
    {
     "name": "stdout",
     "output_type": "stream",
     "text": [
      "RandomForestClassifier Cross Validation:\n",
      "-- Accuracy: 60.89%\n",
      "AdaBoostClassifier Cross Validation:\n",
      "-- Accuracy: 64.59%\n",
      "DecisionTreeClassifier Cross Validation:\n",
      "-- Accuracy: 58.96%\n",
      "KNeighborsClassifier Cross Validation:\n",
      "-- Accuracy: 64.00%\n",
      "BernoulliNB Cross Validation:\n",
      "-- Accuracy: 63.70%\n",
      "SVC Cross Validation:\n",
      "-- Accuracy: 68.59%\n",
      "OneVsRestClassifier Cross Validation:\n",
      "-- Accuracy: 68.59%\n"
     ]
    }
   ],
   "source": [
    "#baseline models\n",
    "cross_val(clf,X_train_scaled,y_train);"
   ]
  },
  {
   "cell_type": "markdown",
   "metadata": {},
   "source": [
    "#### Base on Accuracy of the models after cross validation, Ada Boost Classifer, Bernoulli Naive Bayes and Support Vector Classification are selected. Even though low on Accuracy score, I also want to test Random Forest with different parameters."
   ]
  },
  {
   "cell_type": "code",
   "execution_count": null,
   "metadata": {},
   "outputs": [],
   "source": [
    "clf_CV = [RandomForestClassifier(),AdaBoostClassifier(), BernoulliNB(), SVC()]"
   ]
  },
  {
   "cell_type": "markdown",
   "metadata": {},
   "source": [
    "# Tunning Models"
   ]
  },
  {
   "cell_type": "markdown",
   "metadata": {},
   "source": [
    "### Random Forest"
   ]
  },
  {
   "cell_type": "code",
   "execution_count": 52,
   "metadata": {},
   "outputs": [],
   "source": [
    "def gs_rf(X_train,y_train):\n",
    "\n",
    "    param =  [{'criterion': ['gini', 'entropy'],'max_depth': [5,10,15], \n",
    "                     'n_estimators' : [10,50,100] }]\n",
    "    grid_search = GridSearchCV(RandomForestClassifier(), param_grid = param, verbose = 3, cv = 3,n_jobs= -1, scoring = 'accuracy')\n",
    "    grid_search.fit(X_train, y_train)\n",
    "    output =  [grid_search.best_score_,grid_search.best_params_]\n",
    "    \n",
    "        \n",
    "    return output"
   ]
  },
  {
   "cell_type": "code",
   "execution_count": 53,
   "metadata": {},
   "outputs": [
    {
     "name": "stdout",
     "output_type": "stream",
     "text": [
      "Fitting 3 folds for each of 18 candidates, totalling 54 fits\n"
     ]
    },
    {
     "name": "stderr",
     "output_type": "stream",
     "text": [
      "[Parallel(n_jobs=-1)]: Using backend LokyBackend with 4 concurrent workers.\n",
      "[Parallel(n_jobs=-1)]: Done  24 tasks      | elapsed:    3.3s\n",
      "[Parallel(n_jobs=-1)]: Done  54 out of  54 | elapsed:    4.8s finished\n"
     ]
    },
    {
     "data": {
      "text/plain": [
       "[0.6903703703703704,\n",
       " {'criterion': 'entropy', 'max_depth': 5, 'n_estimators': 100}]"
      ]
     },
     "execution_count": 53,
     "metadata": {},
     "output_type": "execute_result"
    }
   ],
   "source": [
    "#without price\n",
    "gs_rf(X_train_scaled,y_train)"
   ]
  },
  {
   "cell_type": "code",
   "execution_count": 54,
   "metadata": {},
   "outputs": [
    {
     "name": "stdout",
     "output_type": "stream",
     "text": [
      "Fitting 3 folds for each of 18 candidates, totalling 54 fits\n"
     ]
    },
    {
     "name": "stderr",
     "output_type": "stream",
     "text": [
      "[Parallel(n_jobs=-1)]: Using backend LokyBackend with 4 concurrent workers.\n",
      "[Parallel(n_jobs=-1)]: Done  54 out of  54 | elapsed:    2.6s finished\n"
     ]
    },
    {
     "data": {
      "text/plain": [
       "[0.7303703703703704,\n",
       " {'criterion': 'gini', 'max_depth': 10, 'n_estimators': 50}]"
      ]
     },
     "execution_count": 54,
     "metadata": {},
     "output_type": "execute_result"
    }
   ],
   "source": [
    "#with price\n",
    "gs_rf(X_p_train_scaled,y_p_train)"
   ]
  },
  {
   "cell_type": "markdown",
   "metadata": {},
   "source": [
    "### AdaBoosting Classifier"
   ]
  },
  {
   "cell_type": "code",
   "execution_count": 55,
   "metadata": {},
   "outputs": [],
   "source": [
    "def gs_abc(X_train,y_train):\n",
    "    param = [{'learning_rate': [0.1,0.3,0.5,0.8,1],'n_estimators': [50,100,200,300]}]\n",
    "    grid_search = GridSearchCV(AdaBoostClassifier(), param_grid = param, verbose = 1, cv = 3,n_jobs= -1, scoring = 'accuracy')\n",
    "    grid_search.fit(X_train, y_train)\n",
    "    param = [f'{grid_search.best_score_:.2%}', grid_search.best_params_ ]\n",
    "    return  param"
   ]
  },
  {
   "cell_type": "code",
   "execution_count": 56,
   "metadata": {},
   "outputs": [
    {
     "name": "stdout",
     "output_type": "stream",
     "text": [
      "Fitting 3 folds for each of 20 candidates, totalling 60 fits\n"
     ]
    },
    {
     "name": "stderr",
     "output_type": "stream",
     "text": [
      "[Parallel(n_jobs=-1)]: Using backend LokyBackend with 4 concurrent workers.\n",
      "[Parallel(n_jobs=-1)]: Done  42 tasks      | elapsed:    5.7s\n",
      "[Parallel(n_jobs=-1)]: Done  60 out of  60 | elapsed:    8.2s finished\n"
     ]
    },
    {
     "data": {
      "text/plain": [
       "['65.04%', {'learning_rate': 0.1, 'n_estimators': 100}]"
      ]
     },
     "execution_count": 56,
     "metadata": {},
     "output_type": "execute_result"
    }
   ],
   "source": [
    "#without price\n",
    "gs_abc(X_train_scaled,y_train)"
   ]
  },
  {
   "cell_type": "code",
   "execution_count": 57,
   "metadata": {},
   "outputs": [
    {
     "name": "stdout",
     "output_type": "stream",
     "text": [
      "Fitting 3 folds for each of 20 candidates, totalling 60 fits\n"
     ]
    },
    {
     "name": "stderr",
     "output_type": "stream",
     "text": [
      "[Parallel(n_jobs=-1)]: Using backend LokyBackend with 4 concurrent workers.\n",
      "[Parallel(n_jobs=-1)]: Done  42 tasks      | elapsed:    7.2s\n",
      "[Parallel(n_jobs=-1)]: Done  60 out of  60 | elapsed:   11.1s finished\n"
     ]
    },
    {
     "data": {
      "text/plain": [
       "['71.70%', {'learning_rate': 0.3, 'n_estimators': 50}]"
      ]
     },
     "execution_count": 57,
     "metadata": {},
     "output_type": "execute_result"
    }
   ],
   "source": [
    "#with price\n",
    "gs_abc(X_p_train_scaled, y_p_train)"
   ]
  },
  {
   "cell_type": "markdown",
   "metadata": {},
   "source": [
    "### Bernoulli Naive Bayes"
   ]
  },
  {
   "cell_type": "code",
   "execution_count": 58,
   "metadata": {},
   "outputs": [],
   "source": [
    "def gs_bnb(X_train,y_train):\n",
    "    param = [{'alpha': [0.1,0.2,0.3,0.5,0.8,1]}]\n",
    "    grid_search = GridSearchCV(BernoulliNB(), param_grid = param, verbose = 1, cv = 3,n_jobs= -1, scoring = 'accuracy')\n",
    "    grid_search.fit(X_train, y_train)\n",
    "    param = [f'{grid_search.best_score_:.2%}', grid_search.best_params_ ]\n",
    "    return  param"
   ]
  },
  {
   "cell_type": "code",
   "execution_count": 59,
   "metadata": {},
   "outputs": [
    {
     "name": "stdout",
     "output_type": "stream",
     "text": [
      "Fitting 3 folds for each of 6 candidates, totalling 18 fits\n"
     ]
    },
    {
     "name": "stderr",
     "output_type": "stream",
     "text": [
      "[Parallel(n_jobs=-1)]: Using backend LokyBackend with 4 concurrent workers.\n",
      "[Parallel(n_jobs=-1)]: Done  18 out of  18 | elapsed:    0.1s finished\n"
     ]
    },
    {
     "data": {
      "text/plain": [
       "['64.74%', {'alpha': 0.8}]"
      ]
     },
     "execution_count": 59,
     "metadata": {},
     "output_type": "execute_result"
    }
   ],
   "source": [
    "#without price\n",
    "gs_bnb(X_train_scaled, y_train)"
   ]
  },
  {
   "cell_type": "code",
   "execution_count": 60,
   "metadata": {},
   "outputs": [
    {
     "name": "stdout",
     "output_type": "stream",
     "text": [
      "Fitting 3 folds for each of 6 candidates, totalling 18 fits\n"
     ]
    },
    {
     "name": "stderr",
     "output_type": "stream",
     "text": [
      "[Parallel(n_jobs=-1)]: Using backend LokyBackend with 4 concurrent workers.\n",
      "[Parallel(n_jobs=-1)]: Done  18 out of  18 | elapsed:    0.1s finished\n"
     ]
    },
    {
     "data": {
      "text/plain": [
       "['67.56%', {'alpha': 0.2}]"
      ]
     },
     "execution_count": 60,
     "metadata": {},
     "output_type": "execute_result"
    }
   ],
   "source": [
    "#with price\n",
    "gs_bnb(X_p_train_scaled, y_p_train)"
   ]
  },
  {
   "cell_type": "markdown",
   "metadata": {},
   "source": [
    "### Suport Vector Classification"
   ]
  },
  {
   "cell_type": "code",
   "execution_count": 61,
   "metadata": {},
   "outputs": [],
   "source": [
    "def gs_SVC(X_train,y_train):\n",
    "    param = [{'kernel':('linear', 'rbf','poly'), 'C':[1,5,10]}]\n",
    "    grid_search = GridSearchCV(SVC(), param_grid = param, verbose = 1, cv = 3,n_jobs= -1, scoring = 'accuracy')\n",
    "    grid_search.fit(X_train, y_train)\n",
    "    param = [f'{grid_search.best_score_:.2%}', grid_search.best_params_ ]\n",
    "    return  param"
   ]
  },
  {
   "cell_type": "code",
   "execution_count": 62,
   "metadata": {},
   "outputs": [
    {
     "name": "stdout",
     "output_type": "stream",
     "text": [
      "Fitting 3 folds for each of 9 candidates, totalling 27 fits\n"
     ]
    },
    {
     "name": "stderr",
     "output_type": "stream",
     "text": [
      "[Parallel(n_jobs=-1)]: Using backend LokyBackend with 4 concurrent workers.\n",
      "[Parallel(n_jobs=-1)]: Done  27 out of  27 | elapsed:    0.3s finished\n"
     ]
    },
    {
     "data": {
      "text/plain": [
       "['67.85%', {'C': 1, 'kernel': 'rbf'}]"
      ]
     },
     "execution_count": 62,
     "metadata": {},
     "output_type": "execute_result"
    }
   ],
   "source": [
    "gs_SVC(X_train_scaled, y_train)"
   ]
  },
  {
   "cell_type": "code",
   "execution_count": 63,
   "metadata": {},
   "outputs": [
    {
     "name": "stdout",
     "output_type": "stream",
     "text": [
      "Fitting 3 folds for each of 9 candidates, totalling 27 fits\n"
     ]
    },
    {
     "name": "stderr",
     "output_type": "stream",
     "text": [
      "[Parallel(n_jobs=-1)]: Using backend LokyBackend with 4 concurrent workers.\n",
      "[Parallel(n_jobs=-1)]: Done  27 out of  27 | elapsed:    0.3s finished\n"
     ]
    },
    {
     "data": {
      "text/plain": [
       "['71.11%', {'C': 5, 'kernel': 'linear'}]"
      ]
     },
     "execution_count": 63,
     "metadata": {},
     "output_type": "execute_result"
    }
   ],
   "source": [
    "gs_SVC(X_p_train_scaled, y_p_train)"
   ]
  },
  {
   "cell_type": "markdown",
   "metadata": {},
   "source": [
    "# Apply models to test data"
   ]
  },
  {
   "cell_type": "code",
   "execution_count": 64,
   "metadata": {},
   "outputs": [],
   "source": [
    "def plot_feature_importances(model,X_train_scaled):\n",
    "    n_features = X_train_scaled.shape[1]\n",
    "    plt.figure(figsize=(8,8))\n",
    "    plt.barh(range(n_features), model.feature_importances_, align='center') \n",
    "    plt.yticks(np.arange(n_features), X_train.columns.values) \n",
    "    plt.xlabel(\"Feature importance\")\n",
    "    plt.ylabel(\"Feature\")\n"
   ]
  },
  {
   "cell_type": "code",
   "execution_count": 65,
   "metadata": {},
   "outputs": [],
   "source": [
    "def fit_model_tree(model,features, X_train, y_train, X_test, y_test):\n",
    "    \n",
    "    model = model.fit(X_train, y_train)\n",
    "    train_pred = model.predict(X_train)\n",
    "    test_pred = model.predict(X_test)\n",
    "    prob = model.predict_proba(X_test)\n",
    "    \n",
    "    print(str(model).split('(')[0],':')\n",
    "    print('Train: \\n Accuracy:', round(accuracy_score(y_train, train_pred),3),\n",
    "          '\\n Recall',recall_score(y_train, train_pred,average=None),\n",
    "          '\\n Precision',precision_score(y_train, train_pred,average=None),\n",
    "          '\\n f1',f1_score(y_train, train_pred,average=None))\n",
    "    \n",
    "    print('Test: \\n Accuracy:', round(accuracy_score(y_test, test_pred),3),\n",
    "          '\\n Recall',recall_score(y_test, test_pred,average=None),\n",
    "          '\\n Precision',precision_score(y_test, test_pred,average=None),\n",
    "          '\\n f1',f1_score(y_test, test_pred,average=None))\n",
    "    \n",
    "    feature_importances = model.feature_importances_\n",
    "    feature_indices = np.argsort(feature_importances)[::-1]\n",
    "    print(' ')\n",
    "    print('Features Importance Order')\n",
    "    for f,index in enumerate(feature_indices):\n",
    "        print(\"%2d) %-*s %f\" % (f + 1, 30,features[index], feature_importances[index]))\n",
    "    plot_feature_importances(model,X_train)\n",
    "    return train_pred, test_pred"
   ]
  },
  {
   "cell_type": "markdown",
   "metadata": {},
   "source": [
    "## Random Forest"
   ]
  },
  {
   "cell_type": "markdown",
   "metadata": {},
   "source": [
    "#### Without price"
   ]
  },
  {
   "cell_type": "code",
   "execution_count": 66,
   "metadata": {},
   "outputs": [],
   "source": [
    "rf = RandomForestClassifier(criterion= 'gini', max_depth= 5, n_estimators= 50)"
   ]
  },
  {
   "cell_type": "code",
   "execution_count": 67,
   "metadata": {},
   "outputs": [
    {
     "name": "stdout",
     "output_type": "stream",
     "text": [
      "RandomForestClassifier :\n",
      "Train: \n",
      " Accuracy: 0.75 \n",
      " Recall [0.8872549  0.72727273 0.66030534] \n",
      " Precision [0.75732218 0.79166667 0.70901639] \n",
      " f1 [0.81715576 0.75810474 0.68379447]\n",
      "Test: \n",
      " Accuracy: 0.702 \n",
      " Recall [0.78378378 0.72463768 0.6097561 ] \n",
      " Precision [0.76315789 0.74626866 0.6097561 ] \n",
      " f1 [0.77333333 0.73529412 0.6097561 ]\n",
      " \n",
      "Features Importance Order\n",
      " 1) hotel_bar                      0.276176\n",
      " 2) hotel_room                     0.210923\n",
      " 3) hotel_restaurant               0.191412\n",
      " 4) valet_parking                  0.182609\n",
      " 5) hotel_rooftop                  0.044581\n",
      " 6) hotel_pool                     0.031542\n",
      " 7) hotel_limo                     0.029911\n",
      " 8) hotel_fitness                  0.028106\n",
      " 9) hotel_spa                      0.004741\n"
     ]
    },
    {
     "data": {
      "image/png": "[encoded data removed]",
      "text/plain": [
       "<Figure size 576x576 with 1 Axes>"
      ]
     },
     "metadata": {
      "needs_background": "light"
     },
     "output_type": "display_data"
    }
   ],
   "source": [
    "rf_train_pred, rf_test_pred = fit_model_tree(rf,features,X_train_scaled, y_train, X_test_scaled, y_test)"
   ]
  },
  {
   "cell_type": "markdown",
   "metadata": {},
   "source": [
    "#### With price"
   ]
  },
  {
   "cell_type": "code",
   "execution_count": 68,
   "metadata": {},
   "outputs": [],
   "source": [
    "rf_p = RandomForestClassifier(criterion= 'gini', max_depth= 5, n_estimators= 100)"
   ]
  },
  {
   "cell_type": "code",
   "execution_count": 69,
   "metadata": {},
   "outputs": [
    {
     "name": "stdout",
     "output_type": "stream",
     "text": [
      "RandomForestClassifier :\n",
      "Train: \n",
      " Accuracy: 0.797 \n",
      " Recall [0.875      0.77511962 0.7556391 ] \n",
      " Precision [0.82159624 0.83505155 0.75      ] \n",
      " f1 [0.84745763 0.80397022 0.75280899]\n",
      "Test: \n",
      " Accuracy: 0.782 \n",
      " Recall [0.82051282 0.72463768 0.79487179] \n",
      " Precision [0.86486486 0.89285714 0.65263158] \n",
      " f1 [0.84210526 0.8        0.71676301]\n",
      " \n",
      "Features Importance Order\n",
      " 1) hotel_price                    0.314465\n",
      " 2) hotel_bar                      0.183971\n",
      " 3) hotel_restaurant               0.148344\n",
      " 4) hotel_room                     0.144519\n",
      " 5) valet_parking                  0.109358\n",
      " 6) hotel_rooftop                  0.038635\n",
      " 7) hotel_pool                     0.025379\n",
      " 8) hotel_fitness                  0.018755\n",
      " 9) hotel_limo                     0.015140\n",
      "10) hotel_spa                      0.001435\n"
     ]
    },
    {
     "data": {
      "image/png": "[encoded data removed]",
      "text/plain": [
       "<Figure size 576x576 with 1 Axes>"
      ]
     },
     "metadata": {
      "needs_background": "light"
     },
     "output_type": "display_data"
    }
   ],
   "source": [
    "#with price\n",
    "rf_p_train_pred, rf_p_test_pred = fit_model_tree(rf_p,features_w_price, X_p_train_scaled, y_p_train, X_p_test_scaled, y_p_test)\n"
   ]
  },
  {
   "cell_type": "markdown",
   "metadata": {},
   "source": [
    "## AdaBoost"
   ]
  },
  {
   "cell_type": "markdown",
   "metadata": {},
   "source": [
    "#### Without price"
   ]
  },
  {
   "cell_type": "code",
   "execution_count": 70,
   "metadata": {},
   "outputs": [],
   "source": [
    "abc = AdaBoostClassifier(learning_rate= 0.5, n_estimators= 100)"
   ]
  },
  {
   "cell_type": "code",
   "execution_count": 71,
   "metadata": {},
   "outputs": [
    {
     "name": "stdout",
     "output_type": "stream",
     "text": [
      "AdaBoostClassifier :\n",
      "Train: \n",
      " Accuracy: 0.687 \n",
      " Recall [0.81372549 0.71291866 0.56870229] \n",
      " Precision [0.74107143 0.70616114 0.62083333] \n",
      " f1 [0.77570093 0.70952381 0.5936255 ]\n",
      "Test: \n",
      " Accuracy: 0.711 \n",
      " Recall [0.81081081 0.75362319 0.58536585] \n",
      " Precision [0.77922078 0.72222222 0.63157895] \n",
      " f1 [0.79470199 0.73758865 0.60759494]\n",
      " \n",
      "Features Importance Order\n",
      " 1) hotel_room                     0.610000\n",
      " 2) hotel_restaurant               0.080000\n",
      " 3) hotel_fitness                  0.070000\n",
      " 4) hotel_rooftop                  0.060000\n",
      " 5) valet_parking                  0.060000\n",
      " 6) hotel_pool                     0.050000\n",
      " 7) hotel_bar                      0.040000\n",
      " 8) hotel_limo                     0.030000\n",
      " 9) hotel_spa                      0.000000\n"
     ]
    },
    {
     "data": {
      "text/plain": [
       "(array(['Midscale', 'Luxury', 'Economy', 'Economy', 'Economy', 'Midscale',\n",
       "        'Midscale', 'Economy', 'Midscale', 'Midscale', 'Midscale',\n",
       "        'Midscale', 'Economy', 'Luxury', 'Midscale', 'Economy', 'Midscale',\n",
       "        'Luxury', 'Midscale', 'Economy', 'Luxury', 'Economy', 'Luxury',\n",
       "        'Luxury', 'Midscale', 'Midscale', 'Midscale', 'Economy',\n",
       "        'Midscale', 'Luxury', 'Midscale', 'Economy', 'Midscale', 'Economy',\n",
       "        'Midscale', 'Economy', 'Economy', 'Midscale', 'Luxury', 'Luxury',\n",
       "        'Economy', 'Economy', 'Luxury', 'Luxury', 'Luxury', 'Luxury',\n",
       "        'Luxury', 'Economy', 'Luxury', 'Midscale', 'Economy', 'Midscale',\n",
       "        'Luxury', 'Luxury', 'Midscale', 'Economy', 'Midscale', 'Luxury',\n",
       "        'Economy', 'Midscale', 'Midscale', 'Luxury', 'Luxury', 'Economy',\n",
       "        'Luxury', 'Economy', 'Midscale', 'Luxury', 'Luxury', 'Luxury',\n",
       "        'Midscale', 'Economy', 'Midscale', 'Luxury', 'Luxury', 'Economy',\n",
       "        'Midscale', 'Midscale', 'Midscale', 'Luxury', 'Midscale', 'Luxury',\n",
       "        'Midscale', 'Midscale', 'Luxury', 'Midscale', 'Economy', 'Economy',\n",
       "        'Midscale', 'Midscale', 'Midscale', 'Economy', 'Midscale',\n",
       "        'Midscale', 'Luxury', 'Midscale', 'Midscale', 'Luxury', 'Midscale',\n",
       "        'Midscale', 'Economy', 'Luxury', 'Midscale', 'Luxury', 'Luxury',\n",
       "        'Midscale', 'Midscale', 'Midscale', 'Midscale', 'Midscale',\n",
       "        'Midscale', 'Economy', 'Midscale', 'Luxury', 'Midscale',\n",
       "        'Midscale', 'Economy', 'Midscale', 'Midscale', 'Midscale',\n",
       "        'Midscale', 'Luxury', 'Economy', 'Luxury', 'Economy', 'Economy',\n",
       "        'Luxury', 'Economy', 'Midscale', 'Luxury', 'Economy', 'Economy',\n",
       "        'Midscale', 'Luxury', 'Luxury', 'Midscale', 'Economy', 'Luxury',\n",
       "        'Luxury', 'Luxury', 'Economy', 'Economy', 'Midscale', 'Luxury',\n",
       "        'Midscale', 'Economy', 'Midscale', 'Economy', 'Economy', 'Luxury',\n",
       "        'Midscale', 'Midscale', 'Economy', 'Luxury', 'Luxury', 'Midscale',\n",
       "        'Economy', 'Luxury', 'Economy', 'Midscale', 'Midscale', 'Economy',\n",
       "        'Economy', 'Midscale', 'Economy', 'Midscale', 'Economy', 'Luxury',\n",
       "        'Luxury', 'Midscale', 'Midscale', 'Midscale', 'Midscale',\n",
       "        'Economy', 'Luxury', 'Economy', 'Luxury', 'Economy', 'Midscale',\n",
       "        'Economy', 'Midscale', 'Economy', 'Luxury', 'Economy', 'Economy',\n",
       "        'Midscale', 'Luxury', 'Midscale', 'Economy', 'Luxury', 'Midscale',\n",
       "        'Luxury', 'Midscale', 'Economy', 'Midscale', 'Luxury', 'Midscale',\n",
       "        'Economy', 'Luxury', 'Economy', 'Economy', 'Economy', 'Midscale',\n",
       "        'Economy', 'Midscale', 'Luxury', 'Midscale', 'Midscale', 'Luxury',\n",
       "        'Midscale', 'Economy', 'Economy', 'Luxury', 'Economy', 'Economy',\n",
       "        'Economy', 'Luxury', 'Economy', 'Luxury', 'Luxury', 'Economy',\n",
       "        'Economy', 'Midscale', 'Midscale', 'Midscale', 'Economy',\n",
       "        'Economy', 'Economy', 'Economy', 'Luxury', 'Midscale', 'Midscale',\n",
       "        'Economy', 'Luxury', 'Economy', 'Luxury', 'Midscale', 'Midscale',\n",
       "        'Luxury', 'Luxury', 'Economy', 'Luxury', 'Economy', 'Midscale',\n",
       "        'Midscale', 'Economy', 'Luxury', 'Luxury', 'Economy', 'Luxury',\n",
       "        'Economy', 'Midscale', 'Midscale', 'Economy', 'Economy', 'Economy',\n",
       "        'Midscale', 'Economy', 'Economy', 'Midscale', 'Economy', 'Luxury',\n",
       "        'Luxury', 'Luxury', 'Midscale', 'Economy', 'Economy', 'Midscale',\n",
       "        'Economy', 'Luxury', 'Economy', 'Economy', 'Luxury', 'Midscale',\n",
       "        'Midscale', 'Luxury', 'Economy', 'Midscale', 'Luxury', 'Economy',\n",
       "        'Luxury', 'Luxury', 'Luxury', 'Luxury', 'Economy', 'Economy',\n",
       "        'Economy', 'Economy', 'Midscale', 'Midscale', 'Midscale',\n",
       "        'Midscale', 'Midscale', 'Luxury', 'Economy', 'Economy', 'Luxury',\n",
       "        'Midscale', 'Economy', 'Luxury', 'Luxury', 'Economy', 'Luxury',\n",
       "        'Economy', 'Economy', 'Midscale', 'Economy', 'Midscale', 'Luxury',\n",
       "        'Midscale', 'Luxury', 'Luxury', 'Economy', 'Economy', 'Midscale',\n",
       "        'Midscale', 'Luxury', 'Midscale', 'Luxury', 'Midscale', 'Economy',\n",
       "        'Luxury', 'Midscale', 'Economy', 'Luxury', 'Midscale', 'Luxury',\n",
       "        'Economy', 'Midscale', 'Economy', 'Luxury', 'Midscale', 'Midscale',\n",
       "        'Luxury', 'Midscale', 'Midscale', 'Luxury', 'Midscale', 'Luxury',\n",
       "        'Economy', 'Luxury', 'Midscale', 'Economy', 'Luxury', 'Economy',\n",
       "        'Economy', 'Luxury', 'Economy', 'Economy', 'Midscale', 'Luxury',\n",
       "        'Economy', 'Economy', 'Midscale', 'Economy', 'Luxury', 'Economy',\n",
       "        'Economy', 'Midscale', 'Midscale', 'Midscale', 'Midscale',\n",
       "        'Midscale', 'Midscale', 'Luxury', 'Luxury', 'Economy', 'Luxury',\n",
       "        'Economy', 'Luxury', 'Luxury', 'Luxury', 'Midscale', 'Economy',\n",
       "        'Midscale', 'Economy', 'Midscale', 'Luxury', 'Economy', 'Economy',\n",
       "        'Midscale', 'Economy', 'Economy', 'Luxury', 'Luxury', 'Economy',\n",
       "        'Midscale', 'Economy', 'Midscale', 'Luxury', 'Midscale',\n",
       "        'Midscale', 'Economy', 'Luxury', 'Economy', 'Midscale', 'Midscale',\n",
       "        'Midscale', 'Midscale', 'Midscale', 'Economy', 'Midscale',\n",
       "        'Midscale', 'Economy', 'Economy', 'Economy', 'Luxury', 'Economy',\n",
       "        'Luxury', 'Economy', 'Luxury', 'Economy', 'Luxury', 'Economy',\n",
       "        'Luxury', 'Luxury', 'Luxury', 'Midscale', 'Midscale', 'Midscale',\n",
       "        'Luxury', 'Luxury', 'Economy', 'Luxury', 'Luxury', 'Luxury',\n",
       "        'Economy', 'Luxury', 'Economy', 'Midscale', 'Luxury', 'Midscale',\n",
       "        'Economy', 'Luxury', 'Luxury', 'Economy', 'Economy', 'Economy',\n",
       "        'Economy', 'Midscale', 'Midscale', 'Economy', 'Midscale', 'Luxury',\n",
       "        'Midscale', 'Economy', 'Economy', 'Luxury', 'Midscale', 'Luxury',\n",
       "        'Luxury', 'Luxury', 'Luxury', 'Economy', 'Midscale', 'Luxury',\n",
       "        'Luxury', 'Economy', 'Luxury', 'Luxury', 'Economy', 'Midscale',\n",
       "        'Luxury', 'Luxury', 'Economy', 'Luxury', 'Midscale', 'Economy',\n",
       "        'Midscale', 'Economy', 'Economy', 'Midscale', 'Midscale', 'Luxury',\n",
       "        'Economy', 'Midscale', 'Midscale', 'Luxury', 'Economy', 'Luxury',\n",
       "        'Midscale', 'Economy', 'Midscale', 'Luxury', 'Luxury', 'Midscale',\n",
       "        'Midscale', 'Economy', 'Midscale', 'Midscale', 'Midscale',\n",
       "        'Midscale', 'Luxury', 'Midscale', 'Midscale', 'Midscale',\n",
       "        'Midscale', 'Economy', 'Luxury', 'Midscale', 'Luxury', 'Economy',\n",
       "        'Economy', 'Luxury', 'Economy', 'Luxury', 'Economy', 'Luxury',\n",
       "        'Economy', 'Midscale', 'Midscale', 'Economy', 'Midscale',\n",
       "        'Economy', 'Economy', 'Midscale', 'Luxury', 'Economy', 'Midscale',\n",
       "        'Luxury', 'Economy', 'Luxury', 'Luxury', 'Luxury', 'Economy',\n",
       "        'Midscale', 'Midscale', 'Economy', 'Economy', 'Economy', 'Economy',\n",
       "        'Luxury', 'Midscale', 'Luxury', 'Luxury', 'Midscale', 'Luxury',\n",
       "        'Luxury', 'Luxury', 'Economy', 'Economy', 'Economy', 'Economy',\n",
       "        'Midscale', 'Economy', 'Economy', 'Economy', 'Midscale', 'Luxury',\n",
       "        'Midscale', 'Economy', 'Midscale', 'Midscale', 'Economy',\n",
       "        'Midscale', 'Economy', 'Luxury', 'Luxury', 'Luxury', 'Luxury',\n",
       "        'Economy', 'Midscale', 'Midscale', 'Economy', 'Economy', 'Luxury',\n",
       "        'Midscale', 'Midscale', 'Economy', 'Luxury', 'Luxury', 'Midscale',\n",
       "        'Economy', 'Economy', 'Midscale', 'Luxury', 'Economy', 'Luxury',\n",
       "        'Midscale', 'Midscale', 'Luxury', 'Midscale', 'Midscale',\n",
       "        'Economy', 'Midscale', 'Luxury', 'Midscale', 'Midscale', 'Economy',\n",
       "        'Luxury', 'Midscale', 'Midscale', 'Economy', 'Midscale',\n",
       "        'Midscale', 'Economy', 'Midscale', 'Luxury', 'Luxury', 'Midscale',\n",
       "        'Midscale', 'Luxury', 'Luxury', 'Luxury', 'Luxury', 'Midscale',\n",
       "        'Economy', 'Luxury', 'Luxury', 'Economy', 'Economy', 'Midscale',\n",
       "        'Midscale', 'Economy', 'Economy', 'Economy', 'Economy', 'Luxury',\n",
       "        'Luxury', 'Midscale', 'Luxury', 'Luxury', 'Midscale', 'Luxury',\n",
       "        'Luxury', 'Economy', 'Midscale', 'Midscale', 'Midscale', 'Luxury',\n",
       "        'Midscale', 'Midscale', 'Economy', 'Midscale', 'Midscale',\n",
       "        'Midscale', 'Luxury', 'Economy', 'Midscale', 'Luxury', 'Midscale',\n",
       "        'Economy', 'Economy', 'Luxury', 'Economy', 'Luxury', 'Midscale',\n",
       "        'Economy', 'Midscale', 'Midscale', 'Luxury', 'Luxury', 'Luxury',\n",
       "        'Economy', 'Midscale', 'Midscale', 'Luxury', 'Economy', 'Economy',\n",
       "        'Economy', 'Economy', 'Luxury', 'Midscale', 'Luxury', 'Economy',\n",
       "        'Luxury', 'Luxury', 'Economy', 'Luxury', 'Midscale', 'Midscale',\n",
       "        'Luxury', 'Midscale', 'Economy', 'Economy'], dtype=object),\n",
       " array(['Midscale', 'Luxury', 'Midscale', 'Economy', 'Economy', 'Luxury',\n",
       "        'Luxury', 'Luxury', 'Luxury', 'Midscale', 'Economy', 'Luxury',\n",
       "        'Midscale', 'Economy', 'Luxury', 'Luxury', 'Midscale', 'Luxury',\n",
       "        'Economy', 'Luxury', 'Luxury', 'Economy', 'Economy', 'Luxury',\n",
       "        'Luxury', 'Luxury', 'Luxury', 'Economy', 'Economy', 'Midscale',\n",
       "        'Midscale', 'Economy', 'Luxury', 'Midscale', 'Luxury', 'Midscale',\n",
       "        'Midscale', 'Economy', 'Economy', 'Luxury', 'Midscale', 'Economy',\n",
       "        'Luxury', 'Economy', 'Midscale', 'Midscale', 'Luxury', 'Midscale',\n",
       "        'Midscale', 'Midscale', 'Economy', 'Luxury', 'Midscale', 'Economy',\n",
       "        'Luxury', 'Luxury', 'Luxury', 'Economy', 'Midscale', 'Economy',\n",
       "        'Midscale', 'Midscale', 'Midscale', 'Luxury', 'Luxury', 'Luxury',\n",
       "        'Midscale', 'Midscale', 'Luxury', 'Economy', 'Midscale', 'Luxury',\n",
       "        'Luxury', 'Economy', 'Midscale', 'Luxury', 'Luxury', 'Luxury',\n",
       "        'Economy', 'Luxury', 'Midscale', 'Luxury', 'Economy', 'Economy',\n",
       "        'Luxury', 'Economy', 'Economy', 'Luxury', 'Luxury', 'Economy',\n",
       "        'Midscale', 'Economy', 'Luxury', 'Economy', 'Luxury', 'Luxury',\n",
       "        'Midscale', 'Midscale', 'Luxury', 'Economy', 'Luxury', 'Luxury',\n",
       "        'Economy', 'Luxury', 'Economy', 'Midscale', 'Economy', 'Luxury',\n",
       "        'Midscale', 'Luxury', 'Luxury', 'Economy', 'Midscale', 'Midscale',\n",
       "        'Luxury', 'Economy', 'Midscale', 'Midscale', 'Midscale', 'Economy',\n",
       "        'Midscale', 'Economy', 'Midscale', 'Economy', 'Economy', 'Economy',\n",
       "        'Midscale', 'Economy', 'Luxury', 'Midscale', 'Luxury', 'Midscale',\n",
       "        'Midscale', 'Luxury', 'Economy', 'Midscale', 'Economy', 'Midscale',\n",
       "        'Economy', 'Luxury', 'Midscale', 'Midscale', 'Midscale',\n",
       "        'Midscale', 'Midscale', 'Economy', 'Economy', 'Midscale',\n",
       "        'Midscale', 'Economy', 'Economy', 'Midscale', 'Luxury', 'Economy',\n",
       "        'Midscale', 'Economy', 'Economy', 'Luxury', 'Luxury', 'Economy',\n",
       "        'Economy', 'Midscale', 'Midscale', 'Midscale', 'Luxury',\n",
       "        'Midscale', 'Economy', 'Midscale', 'Economy', 'Midscale', 'Luxury',\n",
       "        'Economy', 'Midscale', 'Economy', 'Economy', 'Economy', 'Midscale',\n",
       "        'Midscale', 'Midscale', 'Economy', 'Midscale', 'Midscale',\n",
       "        'Midscale', 'Midscale', 'Economy', 'Midscale', 'Economy',\n",
       "        'Economy', 'Economy', 'Economy', 'Economy', 'Economy', 'Luxury',\n",
       "        'Economy', 'Luxury', 'Midscale', 'Luxury', 'Luxury', 'Luxury',\n",
       "        'Economy', 'Economy', 'Economy', 'Midscale', 'Luxury', 'Economy',\n",
       "        'Luxury', 'Midscale', 'Luxury', 'Economy', 'Luxury', 'Luxury',\n",
       "        'Midscale', 'Luxury', 'Luxury', 'Midscale', 'Midscale', 'Economy',\n",
       "        'Luxury', 'Midscale', 'Economy', 'Economy', 'Economy', 'Economy',\n",
       "        'Midscale', 'Luxury'], dtype=object))"
      ]
     },
     "execution_count": 71,
     "metadata": {},
     "output_type": "execute_result"
    },
    {
     "data": {
      "image/png": "[encoded data removed]",
      "text/plain": [
       "<Figure size 576x576 with 1 Axes>"
      ]
     },
     "metadata": {
      "needs_background": "light"
     },
     "output_type": "display_data"
    }
   ],
   "source": [
    "fit_model_tree(abc,features,X_train_scaled, y_train, X_test_scaled, y_test)"
   ]
  },
  {
   "cell_type": "markdown",
   "metadata": {},
   "source": [
    "#### With price"
   ]
  },
  {
   "cell_type": "code",
   "execution_count": 72,
   "metadata": {},
   "outputs": [],
   "source": [
    "abc_p = AdaBoostClassifier(learning_rate= 0.3, n_estimators= 50)"
   ]
  },
  {
   "cell_type": "code",
   "execution_count": 73,
   "metadata": {},
   "outputs": [
    {
     "name": "stdout",
     "output_type": "stream",
     "text": [
      "AdaBoostClassifier :\n",
      "Train: \n",
      " Accuracy: 0.741 \n",
      " Recall [0.85       0.6507177  0.72932331] \n",
      " Precision [0.81339713 0.79069767 0.65986395] \n",
      " f1 [0.83129584 0.71391076 0.69285714]\n",
      "Test: \n",
      " Accuracy: 0.773 \n",
      " Recall [0.80769231 0.71014493 0.79487179] \n",
      " Precision [0.88732394 0.85964912 0.63917526] \n",
      " f1 [0.84563758 0.77777778 0.70857143]\n",
      " \n",
      "Features Importance Order\n",
      " 1) hotel_price                    0.380000\n",
      " 2) hotel_room                     0.220000\n",
      " 3) hotel_restaurant               0.140000\n",
      " 4) valet_parking                  0.080000\n",
      " 5) hotel_rooftop                  0.060000\n",
      " 6) hotel_bar                      0.060000\n",
      " 7) hotel_fitness                  0.040000\n",
      " 8) hotel_limo                     0.020000\n",
      " 9) hotel_pool                     0.000000\n",
      "10) hotel_spa                      0.000000\n"
     ]
    },
    {
     "data": {
      "text/plain": [
       "(array(['Economy', 'Economy', 'Economy', 'Economy', 'Midscale', 'Midscale',\n",
       "        'Midscale', 'Luxury', 'Economy', 'Luxury', 'Economy', 'Economy',\n",
       "        'Midscale', 'Midscale', 'Midscale', 'Midscale', 'Midscale',\n",
       "        'Midscale', 'Economy', 'Midscale', 'Economy', 'Luxury', 'Economy',\n",
       "        'Midscale', 'Midscale', 'Luxury', 'Midscale', 'Midscale', 'Luxury',\n",
       "        'Midscale', 'Economy', 'Midscale', 'Midscale', 'Midscale',\n",
       "        'Luxury', 'Midscale', 'Luxury', 'Midscale', 'Midscale', 'Luxury',\n",
       "        'Economy', 'Midscale', 'Luxury', 'Midscale', 'Economy', 'Economy',\n",
       "        'Midscale', 'Luxury', 'Midscale', 'Midscale', 'Economy', 'Economy',\n",
       "        'Economy', 'Luxury', 'Luxury', 'Luxury', 'Economy', 'Economy',\n",
       "        'Luxury', 'Midscale', 'Luxury', 'Midscale', 'Economy', 'Midscale',\n",
       "        'Economy', 'Midscale', 'Midscale', 'Midscale', 'Economy',\n",
       "        'Midscale', 'Midscale', 'Economy', 'Luxury', 'Luxury', 'Midscale',\n",
       "        'Midscale', 'Luxury', 'Midscale', 'Economy', 'Economy', 'Midscale',\n",
       "        'Midscale', 'Luxury', 'Economy', 'Luxury', 'Luxury', 'Economy',\n",
       "        'Economy', 'Luxury', 'Midscale', 'Economy', 'Economy', 'Midscale',\n",
       "        'Economy', 'Luxury', 'Midscale', 'Luxury', 'Luxury', 'Midscale',\n",
       "        'Economy', 'Midscale', 'Economy', 'Economy', 'Midscale',\n",
       "        'Midscale', 'Economy', 'Luxury', 'Midscale', 'Midscale', 'Luxury',\n",
       "        'Economy', 'Economy', 'Luxury', 'Economy', 'Economy', 'Luxury',\n",
       "        'Economy', 'Economy', 'Economy', 'Luxury', 'Midscale', 'Midscale',\n",
       "        'Economy', 'Midscale', 'Economy', 'Luxury', 'Economy', 'Midscale',\n",
       "        'Economy', 'Luxury', 'Midscale', 'Midscale', 'Midscale', 'Economy',\n",
       "        'Economy', 'Luxury', 'Economy', 'Midscale', 'Midscale', 'Economy',\n",
       "        'Midscale', 'Luxury', 'Midscale', 'Midscale', 'Economy',\n",
       "        'Midscale', 'Economy', 'Luxury', 'Economy', 'Luxury', 'Midscale',\n",
       "        'Midscale', 'Midscale', 'Midscale', 'Midscale', 'Luxury',\n",
       "        'Midscale', 'Midscale', 'Midscale', 'Midscale', 'Midscale',\n",
       "        'Midscale', 'Luxury', 'Midscale', 'Midscale', 'Economy',\n",
       "        'Midscale', 'Luxury', 'Economy', 'Midscale', 'Economy', 'Economy',\n",
       "        'Midscale', 'Midscale', 'Economy', 'Luxury', 'Midscale', 'Economy',\n",
       "        'Luxury', 'Luxury', 'Midscale', 'Midscale', 'Luxury', 'Midscale',\n",
       "        'Midscale', 'Midscale', 'Midscale', 'Luxury', 'Luxury', 'Midscale',\n",
       "        'Luxury', 'Midscale', 'Midscale', 'Luxury', 'Luxury', 'Midscale',\n",
       "        'Economy', 'Midscale', 'Midscale', 'Luxury', 'Midscale',\n",
       "        'Midscale', 'Midscale', 'Midscale', 'Midscale', 'Economy',\n",
       "        'Midscale', 'Midscale', 'Midscale', 'Economy', 'Luxury', 'Economy',\n",
       "        'Luxury', 'Luxury', 'Economy', 'Economy', 'Midscale', 'Economy',\n",
       "        'Midscale', 'Economy', 'Midscale', 'Midscale', 'Midscale',\n",
       "        'Luxury', 'Economy', 'Midscale', 'Economy', 'Midscale', 'Midscale',\n",
       "        'Midscale', 'Luxury', 'Midscale', 'Economy', 'Midscale', 'Economy',\n",
       "        'Midscale', 'Economy', 'Luxury', 'Luxury', 'Midscale', 'Midscale',\n",
       "        'Luxury', 'Midscale', 'Economy', 'Midscale', 'Midscale', 'Luxury',\n",
       "        'Economy', 'Midscale', 'Midscale', 'Luxury', 'Luxury', 'Midscale',\n",
       "        'Midscale', 'Economy', 'Economy', 'Midscale', 'Economy', 'Economy',\n",
       "        'Economy', 'Luxury', 'Luxury', 'Economy', 'Midscale', 'Economy',\n",
       "        'Midscale', 'Economy', 'Luxury', 'Luxury', 'Economy', 'Economy',\n",
       "        'Luxury', 'Economy', 'Midscale', 'Midscale', 'Luxury', 'Midscale',\n",
       "        'Luxury', 'Midscale', 'Economy', 'Luxury', 'Luxury', 'Economy',\n",
       "        'Luxury', 'Economy', 'Midscale', 'Luxury', 'Economy', 'Economy',\n",
       "        'Economy', 'Midscale', 'Luxury', 'Economy', 'Midscale', 'Luxury',\n",
       "        'Midscale', 'Midscale', 'Midscale', 'Midscale', 'Luxury',\n",
       "        'Midscale', 'Midscale', 'Luxury', 'Midscale', 'Economy',\n",
       "        'Midscale', 'Economy', 'Luxury', 'Luxury', 'Economy', 'Economy',\n",
       "        'Economy', 'Economy', 'Economy', 'Luxury', 'Midscale', 'Economy',\n",
       "        'Economy', 'Midscale', 'Luxury', 'Economy', 'Midscale', 'Midscale',\n",
       "        'Midscale', 'Midscale', 'Luxury', 'Midscale', 'Midscale',\n",
       "        'Midscale', 'Economy', 'Luxury', 'Midscale', 'Luxury', 'Economy',\n",
       "        'Midscale', 'Economy', 'Midscale', 'Luxury', 'Economy', 'Midscale',\n",
       "        'Midscale', 'Midscale', 'Midscale', 'Midscale', 'Midscale',\n",
       "        'Economy', 'Economy', 'Midscale', 'Midscale', 'Midscale',\n",
       "        'Midscale', 'Economy', 'Midscale', 'Luxury', 'Luxury', 'Midscale',\n",
       "        'Economy', 'Economy', 'Economy', 'Economy', 'Luxury', 'Midscale',\n",
       "        'Luxury', 'Luxury', 'Midscale', 'Economy', 'Economy', 'Economy',\n",
       "        'Economy', 'Economy', 'Luxury', 'Luxury', 'Economy', 'Economy',\n",
       "        'Economy', 'Luxury', 'Midscale', 'Luxury', 'Economy', 'Midscale',\n",
       "        'Midscale', 'Economy', 'Economy', 'Economy', 'Economy', 'Luxury',\n",
       "        'Economy', 'Luxury', 'Midscale', 'Economy', 'Economy', 'Economy',\n",
       "        'Luxury', 'Luxury', 'Economy', 'Economy', 'Economy', 'Midscale',\n",
       "        'Economy', 'Economy', 'Luxury', 'Midscale', 'Midscale', 'Luxury',\n",
       "        'Luxury', 'Luxury', 'Luxury', 'Midscale', 'Luxury', 'Midscale',\n",
       "        'Luxury', 'Midscale', 'Midscale', 'Economy', 'Midscale', 'Economy',\n",
       "        'Midscale', 'Midscale', 'Midscale', 'Economy', 'Midscale',\n",
       "        'Midscale', 'Luxury', 'Economy', 'Economy', 'Midscale', 'Economy',\n",
       "        'Midscale', 'Midscale', 'Economy', 'Economy', 'Midscale',\n",
       "        'Economy', 'Economy', 'Luxury', 'Luxury', 'Midscale', 'Midscale',\n",
       "        'Luxury', 'Midscale', 'Luxury', 'Midscale', 'Midscale', 'Midscale',\n",
       "        'Midscale', 'Luxury', 'Luxury', 'Economy', 'Luxury', 'Midscale',\n",
       "        'Luxury', 'Economy', 'Luxury', 'Midscale', 'Midscale', 'Midscale',\n",
       "        'Midscale', 'Midscale', 'Luxury', 'Economy', 'Luxury', 'Economy',\n",
       "        'Midscale', 'Midscale', 'Midscale', 'Luxury', 'Midscale',\n",
       "        'Economy', 'Midscale', 'Economy', 'Luxury', 'Midscale', 'Midscale',\n",
       "        'Economy', 'Midscale', 'Luxury', 'Midscale', 'Midscale', 'Luxury',\n",
       "        'Midscale', 'Midscale', 'Midscale', 'Midscale', 'Economy',\n",
       "        'Economy', 'Midscale', 'Midscale', 'Midscale', 'Luxury',\n",
       "        'Midscale', 'Luxury', 'Economy', 'Midscale', 'Economy', 'Economy',\n",
       "        'Midscale', 'Luxury', 'Economy', 'Economy', 'Midscale', 'Economy',\n",
       "        'Luxury', 'Midscale', 'Economy', 'Luxury', 'Midscale', 'Midscale',\n",
       "        'Midscale', 'Midscale', 'Economy', 'Luxury', 'Luxury', 'Midscale',\n",
       "        'Economy', 'Midscale', 'Luxury', 'Luxury', 'Luxury', 'Midscale',\n",
       "        'Midscale', 'Luxury', 'Economy', 'Midscale', 'Midscale', 'Luxury',\n",
       "        'Luxury', 'Luxury', 'Economy', 'Economy', 'Luxury', 'Midscale',\n",
       "        'Midscale', 'Midscale', 'Midscale', 'Economy', 'Economy',\n",
       "        'Economy', 'Midscale', 'Midscale', 'Economy', 'Midscale', 'Luxury',\n",
       "        'Midscale', 'Economy', 'Luxury', 'Luxury', 'Midscale', 'Midscale',\n",
       "        'Midscale', 'Economy', 'Economy', 'Economy', 'Midscale', 'Luxury',\n",
       "        'Midscale', 'Economy', 'Economy', 'Economy', 'Luxury', 'Economy',\n",
       "        'Luxury', 'Midscale', 'Luxury', 'Midscale', 'Economy', 'Luxury',\n",
       "        'Midscale', 'Midscale', 'Midscale', 'Midscale', 'Economy',\n",
       "        'Midscale', 'Economy', 'Midscale', 'Economy', 'Midscale', 'Luxury',\n",
       "        'Luxury', 'Midscale', 'Economy', 'Midscale', 'Midscale', 'Economy',\n",
       "        'Midscale', 'Luxury', 'Economy', 'Economy', 'Midscale', 'Luxury',\n",
       "        'Luxury', 'Economy', 'Midscale', 'Midscale', 'Luxury', 'Luxury',\n",
       "        'Luxury', 'Economy', 'Luxury', 'Midscale', 'Luxury', 'Economy',\n",
       "        'Luxury', 'Midscale', 'Luxury', 'Midscale', 'Luxury', 'Midscale',\n",
       "        'Luxury', 'Midscale', 'Economy', 'Economy', 'Midscale', 'Midscale',\n",
       "        'Midscale', 'Luxury', 'Midscale', 'Midscale', 'Economy', 'Economy',\n",
       "        'Luxury', 'Economy', 'Economy', 'Midscale', 'Midscale', 'Luxury',\n",
       "        'Midscale', 'Economy', 'Midscale', 'Midscale', 'Economy', 'Luxury',\n",
       "        'Economy', 'Economy', 'Luxury', 'Economy', 'Midscale', 'Economy',\n",
       "        'Economy', 'Midscale', 'Luxury', 'Midscale', 'Midscale', 'Luxury',\n",
       "        'Luxury', 'Luxury', 'Midscale', 'Economy', 'Luxury', 'Luxury',\n",
       "        'Midscale', 'Economy', 'Economy', 'Luxury', 'Midscale', 'Economy',\n",
       "        'Luxury', 'Midscale', 'Luxury', 'Midscale', 'Midscale', 'Midscale',\n",
       "        'Economy', 'Luxury', 'Midscale', 'Midscale', 'Luxury', 'Midscale',\n",
       "        'Midscale', 'Midscale', 'Midscale', 'Midscale', 'Economy',\n",
       "        'Economy', 'Midscale', 'Midscale'], dtype=object),\n",
       " array(['Luxury', 'Midscale', 'Midscale', 'Economy', 'Midscale',\n",
       "        'Midscale', 'Economy', 'Economy', 'Economy', 'Midscale', 'Luxury',\n",
       "        'Luxury', 'Midscale', 'Midscale', 'Midscale', 'Economy', 'Luxury',\n",
       "        'Midscale', 'Economy', 'Midscale', 'Midscale', 'Luxury', 'Economy',\n",
       "        'Economy', 'Midscale', 'Midscale', 'Economy', 'Economy', 'Luxury',\n",
       "        'Luxury', 'Economy', 'Midscale', 'Midscale', 'Midscale', 'Luxury',\n",
       "        'Economy', 'Midscale', 'Luxury', 'Luxury', 'Economy', 'Economy',\n",
       "        'Midscale', 'Economy', 'Economy', 'Economy', 'Economy', 'Economy',\n",
       "        'Economy', 'Economy', 'Economy', 'Economy', 'Economy', 'Luxury',\n",
       "        'Luxury', 'Midscale', 'Midscale', 'Economy', 'Luxury', 'Luxury',\n",
       "        'Economy', 'Economy', 'Midscale', 'Economy', 'Luxury', 'Midscale',\n",
       "        'Economy', 'Midscale', 'Midscale', 'Midscale', 'Midscale',\n",
       "        'Midscale', 'Economy', 'Economy', 'Midscale', 'Economy', 'Economy',\n",
       "        'Economy', 'Luxury', 'Economy', 'Midscale', 'Midscale', 'Midscale',\n",
       "        'Luxury', 'Economy', 'Luxury', 'Midscale', 'Midscale', 'Luxury',\n",
       "        'Luxury', 'Luxury', 'Midscale', 'Luxury', 'Midscale', 'Midscale',\n",
       "        'Luxury', 'Economy', 'Midscale', 'Midscale', 'Midscale', 'Luxury',\n",
       "        'Midscale', 'Luxury', 'Economy', 'Midscale', 'Economy', 'Luxury',\n",
       "        'Midscale', 'Midscale', 'Economy', 'Economy', 'Midscale',\n",
       "        'Economy', 'Luxury', 'Midscale', 'Midscale', 'Economy', 'Midscale',\n",
       "        'Midscale', 'Economy', 'Economy', 'Luxury', 'Midscale', 'Economy',\n",
       "        'Midscale', 'Economy', 'Economy', 'Midscale', 'Luxury', 'Luxury',\n",
       "        'Midscale', 'Luxury', 'Luxury', 'Midscale', 'Midscale', 'Luxury',\n",
       "        'Midscale', 'Midscale', 'Economy', 'Economy', 'Luxury', 'Luxury',\n",
       "        'Midscale', 'Luxury', 'Midscale', 'Luxury', 'Economy', 'Economy',\n",
       "        'Economy', 'Midscale', 'Midscale', 'Luxury', 'Economy', 'Economy',\n",
       "        'Midscale', 'Economy', 'Midscale', 'Luxury', 'Luxury', 'Economy',\n",
       "        'Economy', 'Midscale', 'Luxury', 'Economy', 'Luxury', 'Midscale',\n",
       "        'Luxury', 'Midscale', 'Midscale', 'Luxury', 'Midscale', 'Luxury',\n",
       "        'Midscale', 'Luxury', 'Luxury', 'Economy', 'Midscale', 'Midscale',\n",
       "        'Midscale', 'Economy', 'Midscale', 'Luxury', 'Midscale', 'Luxury',\n",
       "        'Midscale', 'Midscale', 'Economy', 'Midscale', 'Midscale',\n",
       "        'Luxury', 'Luxury', 'Midscale', 'Midscale', 'Luxury', 'Economy',\n",
       "        'Economy', 'Midscale', 'Midscale', 'Midscale', 'Midscale',\n",
       "        'Luxury', 'Economy', 'Midscale', 'Luxury', 'Luxury', 'Economy',\n",
       "        'Midscale', 'Midscale', 'Midscale', 'Midscale', 'Midscale',\n",
       "        'Midscale', 'Economy', 'Midscale', 'Luxury', 'Midscale', 'Economy',\n",
       "        'Luxury', 'Economy', 'Economy', 'Midscale', 'Midscale', 'Midscale',\n",
       "        'Economy', 'Midscale', 'Midscale'], dtype=object))"
      ]
     },
     "execution_count": 73,
     "metadata": {},
     "output_type": "execute_result"
    },
    {
     "data": {
      "image/png": "[encoded data removed]",
      "text/plain": [
       "<Figure size 576x576 with 1 Axes>"
      ]
     },
     "metadata": {
      "needs_background": "light"
     },
     "output_type": "display_data"
    }
   ],
   "source": [
    "fit_model_tree(abc_p,features_w_price,X_p_train_scaled, y_p_train, X_p_test_scaled, y_p_test)"
   ]
  },
  {
   "cell_type": "markdown",
   "metadata": {},
   "source": [
    "## Bernoulli Naive Bayes"
   ]
  },
  {
   "cell_type": "code",
   "execution_count": 74,
   "metadata": {},
   "outputs": [],
   "source": [
    "def fit_model(model, X_train, y_train, X_test, y_test):\n",
    "    \n",
    "    model = model.fit(X_train, y_train)\n",
    "    train_pred = model.predict(X_train)\n",
    "    test_pred = model.predict(X_test)\n",
    "    \n",
    "    \n",
    "    print(str(model).split('(')[0],':')\n",
    "    print('Train: \\n Accuracy:', round(accuracy_score(y_train, train_pred),3),\n",
    "          '\\n Recall',recall_score(y_train, train_pred,average=None),\n",
    "          '\\n Precision',precision_score(y_train, train_pred,average=None),\n",
    "          '\\n f1',f1_score(y_train, train_pred,average=None))\n",
    "    \n",
    "    print('Test: \\n Accuracy:', round(accuracy_score(y_test, test_pred),3),\n",
    "          '\\n Recall',recall_score(y_test, test_pred,average=None),\n",
    "          '\\n Precision',precision_score(y_test, test_pred,average=None),\n",
    "          '\\n f1',f1_score(y_test, test_pred,average=None))"
   ]
  },
  {
   "cell_type": "markdown",
   "metadata": {},
   "source": [
    "#### Without price"
   ]
  },
  {
   "cell_type": "code",
   "execution_count": 75,
   "metadata": {},
   "outputs": [],
   "source": [
    "bnb = BernoulliNB(alpha= 0.1)"
   ]
  },
  {
   "cell_type": "code",
   "execution_count": 76,
   "metadata": {},
   "outputs": [
    {
     "name": "stdout",
     "output_type": "stream",
     "text": [
      "BernoulliNB :\n",
      "Train: \n",
      " Accuracy: 0.659 \n",
      " Recall [0.83823529 0.73684211 0.45801527] \n",
      " Precision [0.71548117 0.66094421 0.591133  ] \n",
      " f1 [0.77200903 0.69683258 0.51612903]\n",
      "Test: \n",
      " Accuracy: 0.671 \n",
      " Recall [0.81081081 0.75362319 0.47560976] \n",
      " Precision [0.75       0.66666667 0.58208955] \n",
      " f1 [0.77922078 0.70748299 0.52348993]\n"
     ]
    }
   ],
   "source": [
    "fit_model(bnb,X_train_scaled, y_train, X_test_scaled, y_test)"
   ]
  },
  {
   "cell_type": "markdown",
   "metadata": {},
   "source": [
    "#### With price"
   ]
  },
  {
   "cell_type": "code",
   "execution_count": 77,
   "metadata": {},
   "outputs": [],
   "source": [
    "bnb_p = BernoulliNB(alpha= 0.1)"
   ]
  },
  {
   "cell_type": "code",
   "execution_count": 78,
   "metadata": {},
   "outputs": [
    {
     "name": "stdout",
     "output_type": "stream",
     "text": [
      "BernoulliNB :\n",
      "Train: \n",
      " Accuracy: 0.681 \n",
      " Recall [0.845      0.75119617 0.5037594 ] \n",
      " Precision [0.71610169 0.69469027 0.62910798] \n",
      " f1 [0.77522936 0.72183908 0.55949896]\n",
      "Test: \n",
      " Accuracy: 0.747 \n",
      " Recall [0.82051282 0.75362319 0.66666667] \n",
      " Precision [0.83116883 0.8        0.62650602] \n",
      " f1 [0.82580645 0.7761194  0.64596273]\n"
     ]
    }
   ],
   "source": [
    "fit_model(bnb_p,X_p_train_scaled, y_p_train, X_p_test_scaled, y_p_test)"
   ]
  },
  {
   "cell_type": "markdown",
   "metadata": {},
   "source": [
    "## SVC\n"
   ]
  },
  {
   "cell_type": "markdown",
   "metadata": {},
   "source": [
    "#### Without price"
   ]
  },
  {
   "cell_type": "code",
   "execution_count": 79,
   "metadata": {},
   "outputs": [],
   "source": [
    "svc = SVC(C= 1, kernel= 'rbf')"
   ]
  },
  {
   "cell_type": "code",
   "execution_count": 80,
   "metadata": {},
   "outputs": [
    {
     "name": "stdout",
     "output_type": "stream",
     "text": [
      "SVC :\n",
      "Train: \n",
      " Accuracy: 0.716 \n",
      " Recall [0.86764706 0.68421053 0.6221374 ] \n",
      " Precision [0.73443983 0.78142077 0.64940239] \n",
      " f1 [0.79550562 0.72959184 0.63547758]\n",
      "Test: \n",
      " Accuracy: 0.698 \n",
      " Recall [0.85135135 0.66666667 0.58536585] \n",
      " Precision [0.75       0.75409836 0.6       ] \n",
      " f1 [0.79746835 0.70769231 0.59259259]\n"
     ]
    }
   ],
   "source": [
    "fit_model(svc,X_train_scaled, y_train, X_test_scaled, y_test)"
   ]
  },
  {
   "cell_type": "markdown",
   "metadata": {},
   "source": [
    "#### With price"
   ]
  },
  {
   "cell_type": "code",
   "execution_count": 81,
   "metadata": {},
   "outputs": [],
   "source": [
    "svc_p = SVC(C= 5, kernel= 'linear')"
   ]
  },
  {
   "cell_type": "code",
   "execution_count": 82,
   "metadata": {},
   "outputs": [
    {
     "name": "stdout",
     "output_type": "stream",
     "text": [
      "SVC :\n",
      "Train: \n",
      " Accuracy: 0.736 \n",
      " Recall [0.865      0.69856459 0.66917293] \n",
      " Precision [0.79357798 0.76041667 0.67169811] \n",
      " f1 [0.8277512  0.72817955 0.67043315]\n",
      "Test: \n",
      " Accuracy: 0.778 \n",
      " Recall [0.84615385 0.76811594 0.71794872] \n",
      " Precision [0.89189189 0.77941176 0.6746988 ] \n",
      " f1 [0.86842105 0.77372263 0.69565217]\n"
     ]
    }
   ],
   "source": [
    "fit_model(svc_p,X_p_train_scaled, y_p_train, X_p_test_scaled, y_p_test)"
   ]
  },
  {
   "cell_type": "markdown",
   "metadata": {},
   "source": [
    "## OneVsRest Classifier"
   ]
  },
  {
   "cell_type": "markdown",
   "metadata": {},
   "source": [
    "### Without price"
   ]
  },
  {
   "cell_type": "code",
   "execution_count": 83,
   "metadata": {},
   "outputs": [],
   "source": [
    "ovr = OneVsRestClassifier(SVC())"
   ]
  },
  {
   "cell_type": "code",
   "execution_count": 84,
   "metadata": {},
   "outputs": [
    {
     "name": "stdout",
     "output_type": "stream",
     "text": [
      "SVC :\n",
      "Train: \n",
      " Accuracy: 0.716 \n",
      " Recall [0.86764706 0.68421053 0.6221374 ] \n",
      " Precision [0.73443983 0.78142077 0.64940239] \n",
      " f1 [0.79550562 0.72959184 0.63547758]\n",
      "Test: \n",
      " Accuracy: 0.698 \n",
      " Recall [0.85135135 0.66666667 0.58536585] \n",
      " Precision [0.75       0.75409836 0.6       ] \n",
      " f1 [0.79746835 0.70769231 0.59259259]\n"
     ]
    }
   ],
   "source": [
    "fit_model(svc,X_train_scaled, y_train, X_test_scaled, y_test)"
   ]
  },
  {
   "cell_type": "markdown",
   "metadata": {},
   "source": [
    "### With price"
   ]
  },
  {
   "cell_type": "code",
   "execution_count": 85,
   "metadata": {},
   "outputs": [
    {
     "name": "stdout",
     "output_type": "stream",
     "text": [
      "SVC :\n",
      "Train: \n",
      " Accuracy: 0.745 \n",
      " Recall [0.865      0.77033493 0.63533835] \n",
      " Precision [0.74891775 0.78921569 0.70416667] \n",
      " f1 [0.80278422 0.77966102 0.66798419]\n",
      "Test: \n",
      " Accuracy: 0.738 \n",
      " Recall [0.79487179 0.72463768 0.69230769] \n",
      " Precision [0.83783784 0.78125    0.62068966] \n",
      " f1 [0.81578947 0.7518797  0.65454545]\n"
     ]
    }
   ],
   "source": [
    "fit_model(svc,X_p_train_scaled, y_p_train, X_p_test_scaled, y_p_test)"
   ]
  },
  {
   "cell_type": "markdown",
   "metadata": {},
   "source": [
    "### I have better predictive power using the features with price. However, I think it is common sense to see that the more expensive it is, the higher the tier of the hotel. Without the price feature, size of the hotel, aka the number of rooms a hotel has, and whether a hotel has restaurants are important factors in deciding which tier the hotel belongs to."
   ]
  },
  {
   "cell_type": "markdown",
   "metadata": {},
   "source": [
    "## Confusion Matrix"
   ]
  },
  {
   "cell_type": "markdown",
   "metadata": {},
   "source": [
    "#### Random Forest"
   ]
  },
  {
   "cell_type": "code",
   "execution_count": 86,
   "metadata": {},
   "outputs": [],
   "source": [
    "rf_confustion = confusion_matrix(y_test, rf_test_pred)"
   ]
  },
  {
   "cell_type": "code",
   "execution_count": 87,
   "metadata": {},
   "outputs": [
    {
     "data": {
      "text/plain": [
       "(<Figure size 432x288 with 2 Axes>,\n",
       " <matplotlib.axes._subplots.AxesSubplot at 0x1a38fc9c90>)"
      ]
     },
     "execution_count": 87,
     "metadata": {},
     "output_type": "execute_result"
    },
    {
     "data": {
      "image/png": "[encoded data removed]",
      "text/plain": [
       "<Figure size 432x288 with 2 Axes>"
      ]
     },
     "metadata": {
      "needs_background": "light"
     },
     "output_type": "display_data"
    }
   ],
   "source": [
    "\n",
    "plot_confusion_matrix(rf_confustion,show_absolute=True,\n",
    "                                show_normed=True,\n",
    "                                colorbar=True,class_names=['Economy','Luxury','Midscale'])"
   ]
  },
  {
   "cell_type": "code",
   "execution_count": 88,
   "metadata": {},
   "outputs": [],
   "source": [
    "rf_p_confusion = confusion_matrix(y_p_test, rf_p_test_pred)"
   ]
  },
  {
   "cell_type": "code",
   "execution_count": 89,
   "metadata": {},
   "outputs": [
    {
     "data": {
      "text/plain": [
       "(<Figure size 432x288 with 2 Axes>,\n",
       " <matplotlib.axes._subplots.AxesSubplot at 0x1a385c8910>)"
      ]
     },
     "execution_count": 89,
     "metadata": {},
     "output_type": "execute_result"
    },
    {
     "data": {
      "image/png": "[encoded data removed]",
      "text/plain": [
       "<Figure size 432x288 with 2 Axes>"
      ]
     },
     "metadata": {
      "needs_background": "light"
     },
     "output_type": "display_data"
    }
   ],
   "source": [
    "plot_confusion_matrix(rf_p_confusion,show_absolute=True,\n",
    "                                show_normed=True,\n",
    "                                colorbar=True,class_names=['Economy','Luxury','Midscale'])"
   ]
  },
  {
   "cell_type": "code",
   "execution_count": null,
   "metadata": {},
   "outputs": [],
   "source": []
  }
 ],
 "metadata": {
  "kernelspec": {
   "display_name": "Python 3",
   "language": "python",
   "name": "python3"
  },
  "language_info": {
   "codemirror_mode": {
    "name": "ipython",
    "version": 3
   },
   "file_extension": ".py",
   "mimetype": "text/x-python",
   "name": "python",
   "nbconvert_exporter": "python",
   "pygments_lexer": "ipython3",
   "version": "3.7.4"
  }
 },
 "nbformat": 4,
 "nbformat_minor": 2
}
